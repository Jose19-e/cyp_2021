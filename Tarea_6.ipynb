{
  "nbformat": 4,
  "nbformat_minor": 0,
  "metadata": {
    "colab": {
      "name": "Tarea 6",
      "provenance": [],
      "authorship_tag": "ABX9TyMwem1zWOqjaR64EU91HMjP",
      "include_colab_link": true
    },
    "kernelspec": {
      "name": "python3",
      "display_name": "Python 3"
    }
  },
  "cells": [
    {
      "cell_type": "markdown",
      "metadata": {
        "id": "view-in-github",
        "colab_type": "text"
      },
      "source": [
        "<a href=\"https://colab.research.google.com/github/Jose19-e/cyp_2021/blob/main/Tarea_6.ipynb\" target=\"_parent\"><img src=\"https://colab.research.google.com/assets/colab-badge.svg\" alt=\"Open In Colab\"/></a>"
      ]
    },
    {
      "cell_type": "code",
      "metadata": {
        "colab": {
          "base_uri": "https://localhost:8080/"
        },
        "id": "2H5B0-3rE5f4",
        "outputId": "bded29ff-0382-4e07-c2ab-951fac63ae8c"
      },
      "source": [
        "#Problema 3.3 \r\n",
        "serie = 0\r\n",
        "N = int (input(\"Digite un número: \"))\r\n",
        "BAND = True\r\n",
        "I = 1\r\n",
        "while I <= N:\r\n",
        "  if BAND == True:\r\n",
        "    serie = serie + 1/I \r\n",
        "    BAND = False \r\n",
        "  else:\r\n",
        "    serie = serie - 1/I \r\n",
        "    BAND = True \r\n",
        "  I = I + 1  \r\n",
        "print(f\"La serie es {serie}\")         "
      ],
      "execution_count": null,
      "outputs": [
        {
          "output_type": "stream",
          "text": [
            "Digite un número: 7\n",
            "La serie es 0.7595238095238095\n"
          ],
          "name": "stdout"
        }
      ]
    },
    {
      "cell_type": "code",
      "metadata": {
        "colab": {
          "base_uri": "https://localhost:8080/"
        },
        "id": "jLsxAS8oXI8B",
        "outputId": "da9c8873-78c9-415e-b0d5-d7b721995d50"
      },
      "source": [
        "#Problema 3.4\r\n",
        "NOM = 0\r\n",
        "SUE = float (input(\"Digite un sueldo: \" ))\r\n",
        "while SUE > 0:\r\n",
        "  if SUE < 1000:\r\n",
        "    NSUE = SUE * 1.15 \r\n",
        "    print(f\"El nuevo sueldo es: $ {NSUE}\\n\")\r\n",
        "  else:\r\n",
        "    NSUE = SUE * 1.12\r\n",
        "    print(f\"El nuevo sueldo es: $ {NSUE}\\n\")\r\n",
        "  NOM = NOM + NSUE  \r\n",
        "  SUE = float (input(\"Digite un sueldo: \" ))  \r\n",
        "\r\n",
        "print(f\"La nomina total es: $ {NOM}\\n\")\r\n"
      ],
      "execution_count": null,
      "outputs": [
        {
          "output_type": "stream",
          "text": [
            "Digite un sueldo: 855\n",
            "El nuevo sueldo es: $ 983.2499999999999\n",
            "\n",
            "Digite un sueldo: 760.32\n",
            "El nuevo sueldo es: $ 874.3679999999999\n",
            "\n",
            "Digite un sueldo: 1100.20\n",
            "El nuevo sueldo es: $ 1232.2240000000002\n",
            "\n",
            "Digite un sueldo: 614\n",
            "El nuevo sueldo es: $ 706.0999999999999\n",
            "\n",
            "Digite un sueldo: 2600\n",
            "El nuevo sueldo es: $ 2912.0000000000005\n",
            "\n",
            "Digite un sueldo: 817.50\n",
            "El nuevo sueldo es: $ 940.1249999999999\n",
            "\n",
            "Digite un sueldo: 1280.30\n",
            "El nuevo sueldo es: $ 1433.9360000000001\n",
            "\n",
            "Digite un sueldo: 687\n",
            "El nuevo sueldo es: $ 790.05\n",
            "\n",
            "Digite un sueldo: -1\n",
            "La nomina total es: $ 9872.053\n",
            "\n"
          ],
          "name": "stdout"
        }
      ]
    },
    {
      "cell_type": "code",
      "metadata": {
        "colab": {
          "base_uri": "https://localhost:8080/"
        },
        "id": "41ljc6t6maPd",
        "outputId": "cde77216-9c2d-4c4a-adfd-46db7fd745a3"
      },
      "source": [
        "#Problema 3.5\r\n",
        "\r\n",
        "SUMOTR = 0\r\n",
        "SUMPOS = 0\r\n",
        "CUEPOS = 0\r\n",
        "N = int (input(\"Número de datos a ingresar: \"))\r\n",
        "I = 1\r\n",
        "while I <= N:\r\n",
        "  NUM = int (input(\"Digite un número entero: \"))\r\n",
        "  if NUM > 0: \r\n",
        "    SUMPOS = SUMPOS + NUM \r\n",
        "    CUEPOS = CUEPOS + 1\r\n",
        "  else:\r\n",
        "    SUMOTR = SUMOTR + NUM\r\n",
        "  I = I + 1  \r\n",
        "PROGEN = (SUMPOS + SUMOTR)/N\r\n",
        "PROPOS = SUMPOS/CUEPOS\r\n",
        "print(f\"El promedio de todos los números es:{PROGEN} \")\r\n",
        "print(f\"El promedio de todos los números positivos es:{PROPOS} \")\r\n",
        "print(f\"El total de números mayores a cero es:{CUEPOS} \")\r\n",
        "\r\n",
        "\r\n"
      ],
      "execution_count": null,
      "outputs": [
        {
          "output_type": "stream",
          "text": [
            "Número de datos a ingresar: 5\n",
            "Digite un número entero: 6\n",
            "Digite un número entero: 11\n",
            "Digite un número entero: -3\n",
            "Digite un número entero: 17\n",
            "Digite un número entero: 12\n",
            "El promedio de todos los números es:8.6 \n",
            "El promedio de todos los números positivos es:11.5 \n",
            "El total de números mayores a cero es:4 \n"
          ],
          "name": "stdout"
        }
      ]
    },
    {
      "cell_type": "code",
      "metadata": {
        "colab": {
          "base_uri": "https://localhost:8080/"
        },
        "id": "Wo-fjRVEzq-O",
        "outputId": "b1298f77-d24e-4a95-ffaa-bc2ce2dc3e1a"
      },
      "source": [
        "#Problema 3.6\r\n",
        "MEN = 100000\r\n",
        "MAY = -100000\r\n",
        "N = int (input(\"Cantidad de números enteros a ingresar: \"))\r\n",
        "I = 1\r\n",
        "while I <=  N:\r\n",
        "  NUM = int (input(\"Digíte un número: \"))\r\n",
        "  if NUM < MEN:\r\n",
        "    MEN = NUM\r\n",
        "  if NUM > MAY:\r\n",
        "    MAY = NUM\r\n",
        "  I = I + 1\r\n",
        "print(f\"El número mayor es: {MAY}\")      \r\n",
        "print(f\"El número menor es: {MEN}\")     "
      ],
      "execution_count": null,
      "outputs": [
        {
          "output_type": "stream",
          "text": [
            "Cantidad de números enteros a ingresar: 2\n",
            "Digíte un número: 3\n",
            "Digíte un número: 2\n",
            "El número mayor es: 3\n",
            "El número menor es: 2\n"
          ],
          "name": "stdout"
        }
      ]
    },
    {
      "cell_type": "code",
      "metadata": {
        "colab": {
          "base_uri": "https://localhost:8080/"
        },
        "id": "4tdKI7W_96J3",
        "outputId": "805253eb-1e5f-4a88-dfdc-653b9c371e2b"
      },
      "source": [
        "#Problema 3.7\r\n",
        "MED = 0\r\n",
        "CHI = 0 \r\n",
        "GRA = 0\r\n",
        "N = int (input(\"Digíte el número de ventas: \"))\r\n",
        "I = 1 \r\n",
        "while I <= N:\r\n",
        "  V = float (input(\"Digíte una venta\"))\r\n",
        "  if V <= 200:\r\n",
        "    CHI = CHI + 1\r\n",
        "  else:\r\n",
        "    if V < 400:\r\n",
        "      MED = MED + 1\r\n",
        "    else:\r\n",
        "      GRA = GRA + 1\r\n",
        "  I = I + 1\r\n",
        "print(f\"Ventas chicas: {CHI}\")      \r\n",
        "print(f\"Ventas medianas: {MED}\")  \r\n",
        "print(f\"Ventas grandes: {GRA}\")  \r\n"
      ],
      "execution_count": null,
      "outputs": [
        {
          "output_type": "stream",
          "text": [
            "Digíte el número de ventas: 4\n",
            "Digíte una venta100\n",
            "Digíte una venta300\n",
            "Digíte una venta400\n",
            "Digíte una venta399\n",
            "Ventas chicas: 1\n",
            "Ventas medianas: 2\n",
            "Ventas grandes: 1\n"
          ],
          "name": "stdout"
        }
      ]
    },
    {
      "cell_type": "code",
      "metadata": {
        "colab": {
          "base_uri": "https://localhost:8080/"
        },
        "id": "xtq4aFCGJRsL",
        "outputId": "24baf1da-edda-4a2f-fb9d-61b3cf7d74d5"
      },
      "source": [
        "#Problema 3.8\r\n",
        "NUM = int (input(\"Ingrese un número entero positivo: \"))\r\n",
        "if NUM == 1:\r\n",
        "    print(NUM) \r\n",
        "if NUM > 0:\r\n",
        "  while NUM > 1:\r\n",
        "    \r\n",
        "    if NUM % 2 == 0:\r\n",
        "      NUM = NUM / 2\r\n",
        "      print(f\"{NUM} \",end =\"\")  \r\n",
        "    else:\r\n",
        "      NUM = NUM * 3 + 1\r\n",
        "      print(f\"{NUM} \",end =\"\")             \r\n",
        "else:\r\n",
        "  print(f\"El número tiene que ser un entero positivo\")      \r\n",
        "\r\n"
      ],
      "execution_count": null,
      "outputs": [
        {
          "output_type": "stream",
          "text": [
            "Ingrese un número entero positivo: 26\n",
            "13.0 40.0 20.0 10.0 5.0 16.0 8.0 4.0 2.0 1.0 "
          ],
          "name": "stdout"
        }
      ]
    },
    {
      "cell_type": "code",
      "metadata": {
        "colab": {
          "base_uri": "https://localhost:8080/"
        },
        "id": "K20ugUykZN0s",
        "outputId": "a8a1896e-70da-4cce-899d-257788f69102"
      },
      "source": [
        "#Problema 3.9\r\n",
        "serie = 0\r\n",
        "NUMERO = int (input(\"Digíte el último número de la serie: \"))\r\n",
        "I = 1\r\n",
        "while I <= NUMERO:\r\n",
        "  serie = serie + I ** I\r\n",
        "  I = I + 1\r\n",
        "print(f\"El resultado de la serie es: {serie}\")  "
      ],
      "execution_count": null,
      "outputs": [
        {
          "output_type": "stream",
          "text": [
            "Digíte el último número de la serie: 8\n",
            "El resultado de la serie es: 17650828\n"
          ],
          "name": "stdout"
        }
      ]
    },
    {
      "cell_type": "code",
      "metadata": {
        "colab": {
          "base_uri": "https://localhost:8080/"
        },
        "id": "60K4hXC4cOfU",
        "outputId": "e2534480-5127-4a3c-cb24-9bb380e4e944"
      },
      "source": [
        "# Problema 3.10\r\n",
        "PRI = 0 \r\n",
        "SEG = 1 \r\n",
        "print(0)\r\n",
        "print(1)\r\n",
        "I = 0\r\n",
        "while I <= 18:\r\n",
        "  SIG = PRI + SEG \r\n",
        "  PRI = SEG \r\n",
        "  SEG = SIG \r\n",
        "  print(SIG)\r\n",
        "  I = I + 1  "
      ],
      "execution_count": null,
      "outputs": [
        {
          "output_type": "stream",
          "text": [
            "0\n",
            "1\n",
            "1\n",
            "2\n",
            "3\n",
            "5\n",
            "8\n",
            "13\n",
            "21\n",
            "34\n",
            "55\n",
            "89\n",
            "144\n",
            "233\n",
            "377\n",
            "610\n",
            "987\n",
            "1597\n",
            "2584\n",
            "4181\n",
            "6765\n"
          ],
          "name": "stdout"
        }
      ]
    },
    {
      "cell_type": "code",
      "metadata": {
        "colab": {
          "base_uri": "https://localhost:8080/"
        },
        "id": "xjbZ8H8o5ZyY",
        "outputId": "97f3da68-199e-4863-f373-0ddd1eb6fedc"
      },
      "source": [
        "#Problema 3.11\r\n",
        "CAN1 = 0\r\n",
        "CAN2 = 0\r\n",
        "CAN3 = 0\r\n",
        "CAN4 = 0\r\n",
        "VOTO = int(input(\"Digíte su voto: \"))\r\n",
        "while VOTO != 0:\r\n",
        "  if VOTO == 1:\r\n",
        "    CAN1 = CAN1 + 1\r\n",
        "  elif VOTO == 2:\r\n",
        "    CAN2 = CAN2 + 1\r\n",
        "  elif VOTO == 3:\r\n",
        "    CAN3 = CAN3 + 1\r\n",
        "  elif VOTO == 4:\r\n",
        "    CAN4 = CAN4 + 1  \r\n",
        "  else:\r\n",
        "    print(\"Candidato no existente\")\r\n",
        "  VOTO = int(input(\"Digíte su voto: \"))           \r\n",
        "SUMV = CAN1 + CAN2 + CAN3 + CAN4\r\n",
        "POR1 = (CAN1/SUMV*100)\r\n",
        "POR2 = (CAN2/SUMV*100)\r\n",
        "POR3 = (CAN3/SUMV*100)\r\n",
        "POR4 = (CAN4/SUMV*100)\r\n",
        "print(f\"Los votos del candidato 1 son: {CAN1} Y su porsentaje es: {POR1}%\")\r\n",
        "print(f\"Los votos del candidato 2 son: {CAN2} Y su porsentaje es: {POR2}%\")\r\n",
        "print(f\"Los votos del candidato 3 son: {CAN3} Y su porsentaje es: {POR3}%\")\r\n",
        "print(f\"Los votos del candidato 4 son: {CAN4} Y su porsentaje es: {POR4}%\")\r\n",
        "print(f\"Los votos totales fueron: {SUMV}\")"
      ],
      "execution_count": null,
      "outputs": [
        {
          "output_type": "stream",
          "text": [
            "Digíte su voto: 2\n",
            "Digíte su voto: 1\n",
            "Digíte su voto: 3\n",
            "Digíte su voto: 4\n",
            "Digíte su voto: 1\n",
            "Digíte su voto: 2\n",
            "Digíte su voto: 3\n",
            "Digíte su voto: 4\n",
            "Digíte su voto: 2\n",
            "Digíte su voto: 2\n",
            "Digíte su voto: 2\n",
            "Digíte su voto: 2\n",
            "Digíte su voto: 0\n",
            "Los votos del candidato 1 son: 2 Y su porsentaje es: 16.666666666666664%\n",
            "Los votos del candidato 2 son: 6 Y su porsentaje es: 50.0%\n",
            "Los votos del candidato 3 son: 2 Y su porsentaje es: 16.666666666666664%\n",
            "Los votos del candidato 4 son: 2 Y su porsentaje es: 16.666666666666664%\n",
            "Los votos totales fueron: 12\n"
          ],
          "name": "stdout"
        }
      ]
    },
    {
      "cell_type": "code",
      "metadata": {
        "colab": {
          "base_uri": "https://localhost:8080/"
        },
        "id": "1zXy2NfhJS5T",
        "outputId": "a2e72351-6e39-4efe-969a-3fd7649f0960"
      },
      "source": [
        "#Problema 3.12\r\n",
        "MASUE = 0\r\n",
        "N = int (input(\"Digíte el número de empleados de la empresa: \"))\r\n",
        "I = 1\r\n",
        "while I <= N:\r\n",
        "  NUMEMP = int (input(\"Número de empleado: \"))\r\n",
        "  SUE = float (input(\"Sueldo del empleado: \"))\r\n",
        "  if SUE > MASUE:\r\n",
        "    MASUE = SUE\r\n",
        "    MANUM  = NUMEMP \r\n",
        "  I = I + 1\r\n",
        "print(f\"Empleado con mayor sueldo: {MANUM} y su sueldo es: {MASUE}\")    \r\n"
      ],
      "execution_count": null,
      "outputs": [
        {
          "output_type": "stream",
          "text": [
            "Digíte el número de empleados de la empresa: 3\n",
            "Número de empleado: 20\n",
            "Sueldo del empleado: 200\n",
            "Número de empleado: 21\n",
            "Sueldo del empleado: 201\n",
            "Número de empleado: 22\n",
            "Sueldo del empleado: 203\n",
            "Empleado con mayor sueldo: 22 y su sueldo es: 203.0\n"
          ],
          "name": "stdout"
        }
      ]
    },
    {
      "cell_type": "code",
      "metadata": {
        "colab": {
          "base_uri": "https://localhost:8080/"
        },
        "id": "Mt0ECjZCaR-o",
        "outputId": "2b776fb2-bc52-439b-f192-73f02765fc61"
      },
      "source": [
        "#Problema 3.13\r\n",
        "ARNO = 0\r\n",
        "ARCE = 0\r\n",
        "ARSU = 0\r\n",
        "MERSU = 500000\r\n",
        "I = 1\r\n",
        "while I <= 12:\r\n",
        "  RNO = float (input(\"Lluvia caída en la región Norte: \"))\r\n",
        "  RCE = float (input(\"Lluvia caída en la región Centro: \"))\r\n",
        "  RSU = float (input(\"Lluvia caída en la región Sur: \"))\r\n",
        "  ARNO = ARNO + RNO\r\n",
        "  ARCE = ARCE + RCE\r\n",
        "  ARSU = ARSU + RSU \r\n",
        "  if RSU < MERSU:\r\n",
        "    MERSU = RSU\r\n",
        "    MES = I\r\n",
        "  I = I + 1  \r\n",
        "PRORCE = ARCE / 12\r\n",
        "print(f\"El promedio anual de la región CENTRO es: {PRORCE}\")    \r\n",
        "print(f\"Mes con menor lluvia de la región SUR es: {MES}\")\r\n",
        "print(f\"Registro del mes: {MERSU}\")\r\n",
        "\r\n",
        "if ARNO > ARSU:\r\n",
        "  print(\"La región con mayor lluvias es la Norte\")\r\n",
        "elif ARCE > ARSU:\r\n",
        "  print(\"La región con mayor lluvias es la Centro\")    \r\n",
        "else:\r\n",
        "  print(\"La región con mayor lluvias es la Sur.\")  "
      ],
      "execution_count": null,
      "outputs": [
        {
          "output_type": "stream",
          "text": [
            "Lluvia caída en la región Norte: 80\n",
            "Lluvia caída en la región Centro: 70\n",
            "Lluvia caída en la región Sur: 170\n",
            "Lluvia caída en la región Norte: 60\n",
            "Lluvia caída en la región Centro: 85\n",
            "Lluvia caída en la región Sur: 100\n",
            "Lluvia caída en la región Norte: 120\n",
            "Lluvia caída en la región Centro: 100\n",
            "Lluvia caída en la región Sur: 185\n",
            "Lluvia caída en la región Norte: 100\n",
            "Lluvia caída en la región Centro: 90\n",
            "Lluvia caída en la región Sur: 88\n",
            "Lluvia caída en la región Norte: 70\n",
            "Lluvia caída en la región Centro: 82\n",
            "Lluvia caída en la región Sur: 80\n",
            "Lluvia caída en la región Norte: 150\n",
            "Lluvia caída en la región Centro: 130\n",
            "Lluvia caída en la región Sur: 122\n",
            "Lluvia caída en la región Norte: 100\n",
            "Lluvia caída en la región Centro: 95\n",
            "Lluvia caída en la región Sur: 67\n",
            "Lluvia caída en la región Norte: 47\n",
            "Lluvia caída en la región Centro: 38\n",
            "Lluvia caída en la región Sur: 55\n",
            "Lluvia caída en la región Norte: 95\n",
            "Lluvia caída en la región Centro: 115\n",
            "Lluvia caída en la región Sur: 110\n",
            "Lluvia caída en la región Norte: 70\n",
            "Lluvia caída en la región Centro: 62\n",
            "Lluvia caída en la región Sur: 83\n",
            "Lluvia caída en la región Norte: 100\n",
            "Lluvia caída en la región Centro: 87\n",
            "Lluvia caída en la región Sur: 107\n",
            "Lluvia caída en la región Norte: 130\n",
            "Lluvia caída en la región Centro: 103\n",
            "Lluvia caída en la región Sur: 148\n",
            "El promedio anual de la región CENTRO es: 88.08333333333333\n",
            "Mes con menor lluvia de la región SUR es: 8\n",
            "Registro del mes: 55.0\n",
            "La región con mayor lluvias es la Sur.\n"
          ],
          "name": "stdout"
        }
      ]
    },
    {
      "cell_type": "code",
      "metadata": {
        "colab": {
          "base_uri": "https://localhost:8080/"
        },
        "id": "SmU4sfPW_MfP",
        "outputId": "231e49a8-f1a6-4836-bc63-bbab8df348fa"
      },
      "source": [
        "#Problema 3.14\r\n",
        "AP1 = 0\r\n",
        "AP2 = 0\r\n",
        "AP3 = 0\r\n",
        "AP4 = 0\r\n",
        "AP5 = 0\r\n",
        "RECAU = 0\r\n",
        "P1 = float (input(\"Precio de la localidad 1: \"))\r\n",
        "P2 = float (input(\"Precio de la localidad 2: \"))\r\n",
        "P3 = float (input(\"Precio de la localidad 3: \"))\r\n",
        "P4 = float (input(\"Precio de la localidad 4: \"))\r\n",
        "P5 = float (input(\"Precio de la localidad 5: \"))\r\n",
        "CLAVE = int (input(\"Digíte la clave de la localidad\"))\r\n",
        "CANT = int (input(\"Cantidad de boletos: \"))\r\n",
        "while CANT != -1 and CLAVE != -1 :  #CORTAMOS EN -1 A CANT(CANTIDAD) Y CLAVE PARA PARAR EL CICLO.\r\n",
        "\r\n",
        "  if CLAVE == 1:\r\n",
        "    PRE = P1 * CANT\r\n",
        "    AP1 = AP1 + CANT\r\n",
        "  elif CLAVE == 2:\r\n",
        "    PRE = P2 * CANT\r\n",
        "    AP2 = AP2 + CANT\r\n",
        "  elif CLAVE == 3:\r\n",
        "    PRE = P3 * CANT\r\n",
        "    AP3 = AP3 + CANT\r\n",
        "  elif CLAVE == 4:\r\n",
        "    PRE = P4 * CANT\r\n",
        "    AP4 = AP4 + CANT     \r\n",
        "  elif CLAVE == 5:\r\n",
        "    PRE = P5 * CANT\r\n",
        "    AP5 = AP5 + CANT \r\n",
        "  else:\r\n",
        "    print(\"Ingrese un número válido\")  \r\n",
        "  print(f\"La clave es: {CLAVE}\")  \r\n",
        "  print(f\"Cantidad de boletos: {CANT}\")\r\n",
        "  print(f\"Total: {PRE}\")\r\n",
        "  CLAVE = int (input(\"Digíte la clave de la localidad\"))\r\n",
        "  CANT = int (input(\"Cantidad de boletos: \")) \r\n",
        "  RECAU = RECAU + PRE\r\n",
        "  \r\n",
        "        \r\n",
        "print(f\"Cantidad de boletos tipo 1: {AP1}\")  \r\n",
        "print(f\"Cantidad de boletos tipo 2: {AP2}\")  \r\n",
        "print(f\"Cantidad de boletos tipo 3: {AP3}\")  \r\n",
        "print(f\"Cantidad de boletos tipo 4: {AP4}\")  \r\n",
        "print(f\"Cantidad de boletos tipo 5: {AP5}\")  \r\n",
        "print(f\"Recaudación del estadio: {RECAU}\")  \r\n"
      ],
      "execution_count": null,
      "outputs": [
        {
          "output_type": "stream",
          "text": [
            "Precio de la localidad 1: 7.25\n",
            "Precio de la localidad 2: 15.80\n",
            "Precio de la localidad 3: 25\n",
            "Precio de la localidad 4: 50\n",
            "Precio de la localidad 5: 75\n",
            "Digíte la clave de la localidad2\n",
            "Cantidad de boletos: 3\n",
            "La clave es: 2\n",
            "Cantidad de boletos: 3\n",
            "Total: 47.400000000000006\n",
            "Digíte la clave de la localidad3\n",
            "Cantidad de boletos: 8\n",
            "La clave es: 3\n",
            "Cantidad de boletos: 8\n",
            "Total: 200.0\n",
            "Digíte la clave de la localidad2\n",
            "Cantidad de boletos: 4\n",
            "La clave es: 2\n",
            "Cantidad de boletos: 4\n",
            "Total: 63.2\n",
            "Digíte la clave de la localidad1\n",
            "Cantidad de boletos: 6\n",
            "La clave es: 1\n",
            "Cantidad de boletos: 6\n",
            "Total: 43.5\n",
            "Digíte la clave de la localidad4\n",
            "Cantidad de boletos: 5\n",
            "La clave es: 4\n",
            "Cantidad de boletos: 5\n",
            "Total: 250.0\n",
            "Digíte la clave de la localidad1\n",
            "Cantidad de boletos: 12\n",
            "La clave es: 1\n",
            "Cantidad de boletos: 12\n",
            "Total: 87.0\n",
            "Digíte la clave de la localidad2\n",
            "Cantidad de boletos: 8\n",
            "La clave es: 2\n",
            "Cantidad de boletos: 8\n",
            "Total: 126.4\n",
            "Digíte la clave de la localidad5\n",
            "Cantidad de boletos: 3\n",
            "La clave es: 5\n",
            "Cantidad de boletos: 3\n",
            "Total: 225.0\n",
            "Digíte la clave de la localidad2\n",
            "Cantidad de boletos: 7\n",
            "La clave es: 2\n",
            "Cantidad de boletos: 7\n",
            "Total: 110.60000000000001\n",
            "Digíte la clave de la localidad3\n",
            "Cantidad de boletos: 14\n",
            "La clave es: 3\n",
            "Cantidad de boletos: 14\n",
            "Total: 350.0\n",
            "Digíte la clave de la localidad4\n",
            "Cantidad de boletos: 1\n",
            "La clave es: 4\n",
            "Cantidad de boletos: 1\n",
            "Total: 50.0\n",
            "Digíte la clave de la localidad2\n",
            "Cantidad de boletos: 11\n",
            "La clave es: 2\n",
            "Cantidad de boletos: 11\n",
            "Total: 173.8\n",
            "Digíte la clave de la localidad4\n",
            "Cantidad de boletos: 9\n",
            "La clave es: 4\n",
            "Cantidad de boletos: 9\n",
            "Total: 450.0\n",
            "Digíte la clave de la localidad5\n",
            "Cantidad de boletos: 7\n",
            "La clave es: 5\n",
            "Cantidad de boletos: 7\n",
            "Total: 525.0\n",
            "Digíte la clave de la localidad1\n",
            "Cantidad de boletos: 23\n",
            "La clave es: 1\n",
            "Cantidad de boletos: 23\n",
            "Total: 166.75\n",
            "Digíte la clave de la localidad1\n",
            "Cantidad de boletos: 18\n",
            "La clave es: 1\n",
            "Cantidad de boletos: 18\n",
            "Total: 130.5\n",
            "Digíte la clave de la localidad3\n",
            "Cantidad de boletos: 4\n",
            "La clave es: 3\n",
            "Cantidad de boletos: 4\n",
            "Total: 100.0\n",
            "Digíte la clave de la localidad-1\n",
            "Cantidad de boletos: -1\n",
            "Cantidad de boletos tipo 1: 59\n",
            "Cantidad de boletos tipo 2: 33\n",
            "Cantidad de boletos tipo 3: 26\n",
            "Cantidad de boletos tipo 4: 15\n",
            "Cantidad de boletos tipo 5: 10\n",
            "Recaudación del estadio: 3099.1499999999996\n"
          ],
          "name": "stdout"
        }
      ]
    },
    {
      "cell_type": "code",
      "metadata": {
        "colab": {
          "base_uri": "https://localhost:8080/"
        },
        "id": "SNOOdZ8BNkxB",
        "outputId": "57110d61-6171-45d1-95f8-4af30e1cb24f"
      },
      "source": [
        "# Programa 3.15\r\n",
        "CL = 0\r\n",
        "CUENTA = 0\r\n",
        "print(\"1. Internacional \\n2. Nacional \\n3. Local\")\r\n",
        "TIPO = int (input(\"Digíte el tipo de la llamada: \"))\r\n",
        "DUR = int (input(\"Duración de la llamada: \"))\r\n",
        "while TIPO != -1  and DUR != -1:\r\n",
        "  if TIPO == 1:\r\n",
        "    if DUR > 3:\r\n",
        "      COSTO = 7.59 + ((DUR - 3) * 3.03)\r\n",
        "    else:\r\n",
        "      COSTO = 7.59\r\n",
        "  elif TIPO == 3:\r\n",
        "    CL = CL + 1\r\n",
        "    if CL > 50:\r\n",
        "      COSTO = 0.60\r\n",
        "    else:\r\n",
        "      COSTO = 0\r\n",
        "  elif TIPO == 2:\r\n",
        "    if DUR > 3:\r\n",
        "      COSTO = 1.20 + ((DUR - 3)* 0.48)\r\n",
        "    else:\r\n",
        "      COSTO = 1.20\r\n",
        "  else:\r\n",
        "    print(\"Digíte valores válidos\") \r\n",
        "  CUENTA = CUENTA + COSTO     \r\n",
        "  TIPO = int (input(\"Digíte el tipo de la llamada: \"))\r\n",
        "  DUR = int (input(\"Duración de la llamada: \"))\r\n",
        "\r\n",
        "print(f\"La cuenta total es: {CUENTA}\")  \r\n"
      ],
      "execution_count": null,
      "outputs": [
        {
          "output_type": "stream",
          "text": [
            "1. Internacional \n",
            "2. Nacional \n",
            "3. Local\n",
            "Digíte el tipo de la llamada: 1\n",
            "Duración de la llamada: 7\n",
            "Digíte el tipo de la llamada: 2\n",
            "Duración de la llamada: 6\n",
            "Digíte el tipo de la llamada: 2\n",
            "Duración de la llamada: 12\n",
            "Digíte el tipo de la llamada: 3\n",
            "Duración de la llamada: 5\n",
            "Digíte el tipo de la llamada: 3\n",
            "Duración de la llamada: 7\n",
            "Digíte el tipo de la llamada: 3\n",
            "Duración de la llamada: 15\n",
            "Digíte el tipo de la llamada: 2\n",
            "Duración de la llamada: 16\n",
            "Digíte el tipo de la llamada: 3\n",
            "Duración de la llamada: 7\n",
            "Digíte el tipo de la llamada: 3\n",
            "Duración de la llamada: 6\n",
            "Digíte el tipo de la llamada: 3\n",
            "Duración de la llamada: 4\n",
            "Digíte el tipo de la llamada: 1\n",
            "Duración de la llamada: 11\n",
            "Digíte el tipo de la llamada: -1\n",
            "Duración de la llamada: -1\n",
            "La cuenta total es: 67.14\n"
          ],
          "name": "stdout"
        }
      ]
    },
    {
      "cell_type": "code",
      "metadata": {
        "colab": {
          "base_uri": "https://localhost:8080/"
        },
        "id": "Zp4aCtU_R4OX",
        "outputId": "a5945214-6734-417c-da8d-3bf0f2ae6337"
      },
      "source": [
        "# Programa 3.16\r\n",
        "TIPO1 = 0\r\n",
        "TIPO2 = 0\r\n",
        "TIPO3 = 0\r\n",
        "TIPO4 = 0\r\n",
        "TIPO5 = 0\r\n",
        "MCTIPO2 = 0\r\n",
        "N = int (input(\"Digíte el número de años: \"))\r\n",
        "I = 1\r\n",
        "while I <= N:\r\n",
        "  TOTVIN = 0\r\n",
        "  J= 1\r\n",
        "  while J > 0 and J < 6:\r\n",
        "    V = float (input(\"Digíte la cantidad de litros de vino: \"))\r\n",
        "    TOTVIN = TOTVIN + V\r\n",
        "    if J == 1:\r\n",
        "      TIPO1 = TIPO1 + V\r\n",
        "    if J == 2:  \r\n",
        "      TIPO2 = TIPO2 + V\r\n",
        "      if V > MCTIPO2:\r\n",
        "        MCTIPO2 = V\r\n",
        "        AÑO = I\r\n",
        "    if J == 3:\r\n",
        "      TIPO3 = TIPO3 + V\r\n",
        "      if V == 0:\r\n",
        "        print(f\"En el año: {I} no se produjo vino tipo: TIPO3\")\r\n",
        "    if J == 4:\r\n",
        "      TIPO4 = TIPO4 + V\r\n",
        "    if J == 5:\r\n",
        "      TIPO5 = TIPO5 + V\r\n",
        "    J = J + 1\r\n",
        "  print(f\"Total de litros producidos por año {TOTVIN}\")       \r\n",
        "  I = I + 1     \r\n",
        "print(f\"Total tipo 1: {TIPO1}\")  \r\n",
        "print(f\"Total tipo 2: {TIPO2}\")  \r\n",
        "print(f\"Total tipo 3: {TIPO3}\")  \r\n",
        "print(f\"Total tipo 4: {TIPO4}\")  \r\n",
        "print(f\"Total tipo 5: {TIPO5}\")  \r\n",
        "print(f\"AÑO en que se produjo mayor cantidad vino TIP02 : AÑO {AÑO} y Litros: {MCTIPO2}\")\r\n"
      ],
      "execution_count": null,
      "outputs": [
        {
          "output_type": "stream",
          "text": [
            "Digíte el número de años: 1\n",
            "Digíte la cantidad de litros de vino: 2\n",
            "Digíte la cantidad de litros de vino: 2\n",
            "Digíte la cantidad de litros de vino: 0\n",
            "En el año: 1 no se produjo vino tipo: TIPO3\n",
            "Digíte la cantidad de litros de vino: 2\n",
            "Digíte la cantidad de litros de vino: 2\n",
            "Total de litros producidos por año 8.0\n",
            "Total tipo 1: 2.0\n",
            "Total tipo 2: 2.0\n",
            "Total tipo 3: 0.0\n",
            "Total tipo 4: 2.0\n",
            "Total tipo 5: 2.0\n",
            "AÑO en que se produjo mayor cantidad vino TIP02 : AÑO1 y Litros: 2.0\n"
          ],
          "name": "stdout"
        }
      ]
    },
    {
      "cell_type": "code",
      "metadata": {
        "colab": {
          "base_uri": "https://localhost:8080/"
        },
        "id": "ZBVhdZTpquML",
        "outputId": "1eed3b3e-acbf-49bc-91b6-cc2a0e2b452b"
      },
      "source": [
        "# Programa 3.17\r\n",
        "I = 3\r\n",
        "SP = 0\r\n",
        "BAND = True\r\n",
        "M = int (input(\"Digíte el número límite: \"))\r\n",
        "if M >= 1:\r\n",
        "  SP = SP + 1\r\n",
        "  print(\"Número primo\",1)\r\n",
        "if M > 2:\r\n",
        "  SP = SP + 1\r\n",
        "  print(\"Número primo\",2)\r\n",
        "while I <= M:  \r\n",
        "  if I % 2 == 0:\r\n",
        "    I = I + 1 \r\n",
        "  else:\r\n",
        "    print(\"Número primo\",I)\r\n",
        "    SP = SP + 1\r\n",
        "    I = I + 1 \r\n",
        " \r\n",
        "print(f\"EMTRE 1 y {M} hay {SP} NUMEROS PRIMOS\")         \r\n"
      ],
      "execution_count": null,
      "outputs": [
        {
          "output_type": "stream",
          "text": [
            "Digíte el número límite: 18\n",
            "Número primo 1\n",
            "Número primo 2\n",
            "Número primo 3\n",
            "Número primo 5\n",
            "Número primo 7\n",
            "Número primo 9\n",
            "Número primo 11\n",
            "Número primo 13\n",
            "Número primo 15\n",
            "Número primo 17\n",
            "EMTRE 1 y 18 hay 10 NUMEROS PRIMOS\n"
          ],
          "name": "stdout"
        }
      ]
    },
    {
      "cell_type": "code",
      "metadata": {
        "id": "YtmVAXX7vBwe",
        "colab": {
          "base_uri": "https://localhost:8080/"
        },
        "outputId": "d7347ef2-ecff-4ad7-a22d-8c10027af5b1"
      },
      "source": [
        "# Programa 3.17\r\n",
        "I = 3\r\n",
        "SP = 0\r\n",
        "M = int (input(\"Digíte el número límite: \"))\r\n",
        "if M >= 1:\r\n",
        "  SP = SP + 1\r\n",
        "  print(\"Número primo\",1)\r\n",
        "if M > 2:\r\n",
        "  SP = SP + 1\r\n",
        "  print(\"Número primo\",2)\r\n",
        "while I <= M:  \r\n",
        "  \r\n",
        "  \r\n",
        "  \r\n",
        "  \r\n",
        "  print(\"Número primo\",I)\r\n",
        "  SP = SP + 1\r\n",
        "  I = I + 2\r\n",
        "print(f\"EMTRE 1 y {M} hay {SP} NUMEROS PRIMOS\")     "
      ],
      "execution_count": null,
      "outputs": [
        {
          "output_type": "stream",
          "text": [
            "Digíte el número límite: 18\n",
            "Número primo 1\n",
            "Número primo 2\n",
            "Número primo 3\n",
            "Número primo 5\n",
            "Número primo 7\n",
            "Número primo 9\n",
            "Número primo 11\n",
            "Número primo 13\n",
            "Número primo 15\n",
            "Número primo 17\n",
            "EMTRE 1 y 18 hay 10 NUMEROS PRIMOS\n"
          ],
          "name": "stdout"
        }
      ]
    },
    {
      "cell_type": "code",
      "metadata": {
        "id": "__67Abm9XAhd",
        "colab": {
          "base_uri": "https://localhost:8080/"
        },
        "outputId": "73ec50ea-ec2e-46aa-9479-9c4b96200322"
      },
      "source": [
        "# Programa 3.18\r\n",
        "CLAVE = 01\r\n",
        "MAYPRO = 0\r\n",
        "N = int (input(\"Númro de fábricas: \"))\r\n",
        "if N <= 1000:\r\n",
        "  I = 1\r\n",
        "  while I <= N:\r\n",
        "    FABRICA = int (input(\"Digíte el número ID de fábrica: ID\"))\r\n",
        "    TOTANU = 0\r\n",
        "    J = 1\r\n",
        "    while J >= 1 and J <= 12:\r\n",
        "      MES = float (input(\"Total de la producción de la fábrica en el mes: \"))\r\n",
        "      TOTANU = TOTANU + MES\r\n",
        "      if J == 7 and MES >= 3000000:\r\n",
        "        print(f\"N# de Fábrica cuyas producciones en el mes de julio superaron los $ 3 000 000: N#{FABRICA} \")\r\n",
        "      J = J + 1\r\n",
        "    if TOTANU > MAYPRO:\r\n",
        "      MAYPRO = TOTANU\r\n",
        "      CLAVE = FABRICA\r\n",
        "    print(f\"producción anual de la fábrica: ID{FABRICA}: ${TOTANU}\")\r\n",
        "    I = I + 1\r\n",
        "else:\r\n",
        "  print(\"Error en el número de fábricas\")  \r\n",
        "print(f\"ID de la fábrica que más produjo en el año: ID{CLAVE}, Producción total {MAYPRO}\")  \r\n",
        "\r\n",
        "\r\n"
      ],
      "execution_count": null,
      "outputs": [
        {
          "output_type": "stream",
          "text": [
            "Númro de fábricas: 2\n",
            "Digíte el número ID de fábrica: ID10\n",
            "Total de la producción de la fábrica en el mes: 100\n",
            "Total de la producción de la fábrica en el mes: 100\n",
            "Total de la producción de la fábrica en el mes: 100\n",
            "Total de la producción de la fábrica en el mes: 100\n",
            "Total de la producción de la fábrica en el mes: 100\n",
            "Total de la producción de la fábrica en el mes: 100\n",
            "Total de la producción de la fábrica en el mes: 3000000\n",
            "N# de Fábrica cuyas producciones en el mes de julio superaron los $ 3 000 000: N#10 \n",
            "Total de la producción de la fábrica en el mes: 100\n",
            "Total de la producción de la fábrica en el mes: 100\n",
            "Total de la producción de la fábrica en el mes: 100\n",
            "Total de la producción de la fábrica en el mes: 100\n",
            "Total de la producción de la fábrica en el mes: 100\n",
            "producción anual de la fábrica: ID10: $3001100.0\n",
            "Digíte el número ID de fábrica: ID11\n",
            "Total de la producción de la fábrica en el mes: 100\n",
            "Total de la producción de la fábrica en el mes: 100\n",
            "Total de la producción de la fábrica en el mes: 100\n",
            "Total de la producción de la fábrica en el mes: 100\n",
            "Total de la producción de la fábrica en el mes: 2000000\n",
            "Total de la producción de la fábrica en el mes: 100\n",
            "Total de la producción de la fábrica en el mes: 100\n",
            "Total de la producción de la fábrica en el mes: 100\n",
            "Total de la producción de la fábrica en el mes: 100\n",
            "Total de la producción de la fábrica en el mes: 100\n",
            "Total de la producción de la fábrica en el mes: 100\n",
            "Total de la producción de la fábrica en el mes: 100\n",
            "producción anual de la fábrica: ID11: $2001100.0\n",
            "ID de la fábrica que más produjo en el año: ID10, Producción total 3001100.0\n"
          ],
          "name": "stdout"
        }
      ]
    },
    {
      "cell_type": "code",
      "metadata": {
        "id": "perSA6LIGO67"
      },
      "source": [
        "#Programa 3.19\r\n",
        "N = int (input(\"Digíte el número límite: \"))\r\n",
        "I = 1\r\n",
        "while I <= N:\r\n",
        "  SUM = 0\r\n",
        "  J = 1\r\n",
        "  while J >= 1 and J <= (I / 2):\r\n",
        "    if I % J == 0:\r\n",
        "      SUM = SUM + J\r\n",
        "    J = J + 1\r\n",
        "    if SUM == I:\r\n",
        "      print(f\"{I} Es un número perfecto: \")  \r\n",
        "  I = I + 1    "
      ],
      "execution_count": null,
      "outputs": []
    }
  ]
}