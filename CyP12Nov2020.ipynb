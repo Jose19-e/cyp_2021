{
  "nbformat": 4,
  "nbformat_minor": 0,
  "metadata": {
    "colab": {
      "name": "CyP12Nov2020",
      "provenance": [],
      "authorship_tag": "ABX9TyMBMq2FhLesulKGWPrq22SA",
      "include_colab_link": true
    },
    "kernelspec": {
      "name": "python3",
      "display_name": "Python 3"
    }
  },
  "cells": [
    {
      "cell_type": "markdown",
      "metadata": {
        "id": "view-in-github",
        "colab_type": "text"
      },
      "source": [
        "<a href=\"https://colab.research.google.com/github/Jose19-e/cyp_2021/blob/main/CyP12Nov2020.ipynb\" target=\"_parent\"><img src=\"https://colab.research.google.com/assets/colab-badge.svg\" alt=\"Open In Colab\"/></a>"
      ]
    },
    {
      "cell_type": "code",
      "metadata": {
        "id": "fmLqmnXjpk3g"
      },
      "source": [
        "numero= int (input(\"Dame un número\"))\n",
        "if numero >0:\n",
        "  print(\"El numero es positivo\")\n",
        "print(\"Fin del programa\")  "
      ],
      "execution_count": null,
      "outputs": []
    },
    {
      "cell_type": "code",
      "metadata": {
        "id": "D7BaiJTUprLZ"
      },
      "source": [
        "numero= int(input(\"Digite un numero\"))\n",
        "if numero>0:\n",
        "  print(\"El numero es positivo\")\n",
        "else: \n",
        "  print(\"El numero es negativo\")  "
      ],
      "execution_count": null,
      "outputs": []
    },
    {
      "cell_type": "code",
      "metadata": {
        "id": "1p9TRy4Lpu9s",
        "outputId": "a6f00bfb-40fe-4083-c0a2-bcc7faae1f8e",
        "colab": {
          "base_uri": "https://localhost:8080/"
        }
      },
      "source": [
        "numero= int(input(\"Digite un numero\"))\n",
        "if numero>0:\n",
        "  print(\"El numero es positivo\")\n",
        "elif numero==0:\n",
        "  print(\"El numero es cero\")  \n",
        "else: \n",
        "  print(\"El numero es negativo\")"
      ],
      "execution_count": null,
      "outputs": [
        {
          "output_type": "stream",
          "text": [
            "Digite un numero0\n",
            "El numero es cero\n"
          ],
          "name": "stdout"
        }
      ]
    }
  ]
}