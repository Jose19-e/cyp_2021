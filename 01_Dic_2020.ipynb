{
  "nbformat": 4,
  "nbformat_minor": 0,
  "metadata": {
    "colab": {
      "name": "01-Dic-2020",
      "provenance": [],
      "authorship_tag": "ABX9TyNxdBBQG9qPXLBDiHZJz3SI",
      "include_colab_link": true
    },
    "kernelspec": {
      "name": "python3",
      "display_name": "Python 3"
    }
  },
  "cells": [
    {
      "cell_type": "markdown",
      "metadata": {
        "id": "view-in-github",
        "colab_type": "text"
      },
      "source": [
        "<a href=\"https://colab.research.google.com/github/Jose19-e/cyp_2021/blob/main/01_Dic_2020.ipynb\" target=\"_parent\"><img src=\"https://colab.research.google.com/assets/colab-badge.svg\" alt=\"Open In Colab\"/></a>"
      ]
    },
    {
      "cell_type": "code",
      "metadata": {
        "colab": {
          "base_uri": "https://localhost:8080/"
        },
        "id": "qaOadHNBTMEE",
        "outputId": "a54fbbbe-366b-45d6-933e-a87ad1f309ce"
      },
      "source": [
        "#\n",
        "numero1 = int (input(\"Introduce el primer número\"))\n",
        "numero2 = int (input(\"Introduce el segundo número\"))\n",
        "numero3 = int (input(\"Introduce el tercer número\"))\n",
        "if numero1 >= numero2 and numero1 >= numero3:\n",
        "  print(numero1, \"Es mayor\")\n",
        "elif numero2 >= numero1 and numero2 >= numero3:\n",
        "  print(numero3,\"Es el mayor\")  "
      ],
      "execution_count": 1,
      "outputs": [
        {
          "output_type": "stream",
          "text": [
            "Introduce el primer número9\n",
            "Introduce el segundo número3\n",
            "Introduce el tercer número4\n",
            "9 Es mayor\n"
          ],
          "name": "stdout"
        }
      ]
    },
    {
      "cell_type": "code",
      "metadata": {
        "id": "hJOrNQDOajwC"
      },
      "source": [
        ""
      ],
      "execution_count": null,
      "outputs": []
    },
    {
      "cell_type": "code",
      "metadata": {
        "colab": {
          "base_uri": "https://localhost:8080/"
        },
        "id": "D52p4NAVVtJ7",
        "outputId": "c604b923-3f2a-4f33-a2c8-59f14e219b5d"
      },
      "source": [
        "#Ejemplo 2 \n",
        "print(\"Ingrese el nombre del trabajador\" )\n",
        "nombre = input()\n",
        "print(\"¿Cuántas horas trabajo en esta semana\", nombre , \":\")\n",
        "horas = int(input())\n",
        "horas = int (horas)\n",
        "print(\"¿Cuánto se paga por hora?\")\n",
        "sueldoH= int(input())\n",
        "sueldo = float (sueldoH)\n",
        "#Evaluar el sueldo \n",
        "if (horas <=40):\n",
        "  pago = horas * sueldoH\n",
        "  print(\"El sueldo final de \" , nombre , \"Es $\", pago)\n",
        "else:\n",
        "  extras = horas - 40\n",
        "  pago = 40*sueldoH\n",
        "  pagoFinal = pago +((extras * sueldoH )* 2)\n",
        "  print(\"El sueldo final de\", nombre, \"Es$\", pagoFinal)  \n",
        "\n",
        "\n",
        "     "
      ],
      "execution_count": 23,
      "outputs": [
        {
          "output_type": "stream",
          "text": [
            "Ingrese el nombre del trabajador\n",
            "jose\n",
            "¿Cuántas horas trabajo en esta semana jose :\n",
            "6\n",
            "¿Cuánto se paga por hora?\n",
            "5\n",
            "El sueldo final de  jose Es $ 30\n"
          ],
          "name": "stdout"
        }
      ]
    },
    {
      "cell_type": "code",
      "metadata": {
        "colab": {
          "base_uri": "https://localhost:8080/"
        },
        "id": "U-4E-btpZgMH",
        "outputId": "9c457412-7c81-4bc7-8273-ebd579e04c2d"
      },
      "source": [
        "#Ejemplo 3\n",
        "#Calcular el salario semanal de x trabajador\n",
        "#El salario semanal se calcula en base a las horas semanales trabajadas\n",
        "#El pago por hora es variable (se pide por teclado)\n",
        "#Si las horas trabajadas superan las 40 horas, el pago por hora extra es:\n",
        "#Doble en el rango de 41horas a 50horas\n",
        "#Triple en el rango de 51horas a 60 horas\n",
        "#Incentivo de $2000 si rebasa las 60 horas.\n",
        "print(\"Ingrese el nombre del trabajador\" )\n",
        "nombre = input()\n",
        "print(\"¿Cuántas horas trabajo en esta semana\", nombre , \":\")\n",
        "horas = int(input())\n",
        "print(\"¿Cuánto se paga por hora?\")\n",
        "sueldoH= input()\n",
        "sueldo = float (sueldoH)\n",
        "# eavluar el sueldo \n",
        "if (horas <= 40 ):\n",
        "  pago = horas * sueldoH\n",
        "  print(\"El sueldo final de: \", nombre, \"Es $\", pago)\n",
        "elif (horas > 40 and horas <= 50):\n",
        "  extrasDobles = horas - 40\n",
        "  print(\"Horas extras dobles:\", extrasDobles)\n",
        "  pago = 40 * sueldoH\n",
        "  print (\"Sueldo base:$,\", pago)\n",
        "  pagoDoble = extrasDobles * sueldoH * 2\n",
        "  print(\" pago de horas dobles: $\", pagoDoble)\n",
        "  pagoFinal = pago + pagoDoble\n",
        "  print(\"El sueldo final de: \",nombre , \"Es $\", pagoFinal)\n",
        "\n",
        "elif (horas > 50 and horas <= 60):\n",
        "  extrasTriples = horas - 50\n",
        "  print(\"Horas extras dobles:10 \")\n",
        "  print(\"Horas extras triples: \", extrasTriples)\n",
        "  pago = 40 * sueldoH\n",
        "  print(\"Sueldo base:$\", pago)\n",
        "  pagoDoble = 10*sueldoH * 2\n",
        "  print(\"pago de horas extras dobles:\", pagoDoble)\n",
        "  pagoTriple = extrasTriples * sueldoH * 3\n",
        "  print(\"pago de horas extras triples:\", PagoTriple)\n",
        "  pagoFinal = pago + pagoDoble + pagoTriple\n",
        "  print (\"El sueldo final de:\" , nombre, \"Es $\", pagoFinal )\n",
        "\n",
        "else: \n",
        "  extrasTriples = 10\n",
        "  print(\"Horas extra dobles 10\")\n",
        "  print(\"Horas extras Triples 10\") \n",
        "  pago = 40 * sueldoH\n",
        "  print(\"Sueldo Base:$\", pago)\n",
        "  pagoDoble = 10 * sueldoH * 2\n",
        "  print(\"Pago de horas extras Dobles:\", pagoDoble)\n",
        "  pagoTriple = extrasTriples * sueldoH * 3\n",
        "  print(\"pago de horas extras triples: \", pagoTriple)\n",
        "  print(\"Incentivo por trabajar más de 60 horas:$ $2000\")\n",
        "  pagoFinal = pago + pagoDoble + pagoTriple + 2000\n",
        "  print(\"El sueldo final de : \",nombre , \"Es $\", pagoFina3)\n"
      ],
      "execution_count": null,
      "outputs": [
        {
          "output_type": "stream",
          "text": [
            "Ingrese el nombre del trabajador\n"
          ],
          "name": "stdout"
        }
      ]
    }
  ]
}