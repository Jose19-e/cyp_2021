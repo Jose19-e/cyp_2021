{
  "nbformat": 4,
  "nbformat_minor": 0,
  "metadata": {
    "colab": {
      "name": "Untitled2.ipynb",
      "provenance": [],
      "authorship_tag": "ABX9TyO10oxyEOvreXR32RX4966m",
      "include_colab_link": true
    },
    "kernelspec": {
      "name": "python3",
      "display_name": "Python 3"
    }
  },
  "cells": [
    {
      "cell_type": "markdown",
      "metadata": {
        "id": "view-in-github",
        "colab_type": "text"
      },
      "source": [
        "<a href=\"https://colab.research.google.com/github/Jose19-e/cyp_2021/blob/main/Untitled2.ipynb\" target=\"_parent\"><img src=\"https://colab.research.google.com/assets/colab-badge.svg\" alt=\"Open In Colab\"/></a>"
      ]
    },
    {
      "cell_type": "code",
      "metadata": {
        "colab": {
          "base_uri": "https://localhost:8080/"
        },
        "id": "5utjTSi85qws",
        "outputId": "6ec668cf-5246-4bbf-b9a2-83bfd48b6455"
      },
      "source": [
        "import keyword\r\n",
        "pr = keyword.kwlist\r\n",
        "print( len(pr))\r\n",
        "for palabra in pr:\r\n",
        "  print(\"1.\", palabra)\r\n"
      ],
      "execution_count": null,
      "outputs": [
        {
          "output_type": "stream",
          "text": [
            "33\n",
            "1. False\n",
            "1. None\n",
            "1. True\n",
            "1. and\n",
            "1. as\n",
            "1. assert\n",
            "1. break\n",
            "1. class\n",
            "1. continue\n",
            "1. def\n",
            "1. del\n",
            "1. elif\n",
            "1. else\n",
            "1. except\n",
            "1. finally\n",
            "1. for\n",
            "1. from\n",
            "1. global\n",
            "1. if\n",
            "1. import\n",
            "1. in\n",
            "1. is\n",
            "1. lambda\n",
            "1. nonlocal\n",
            "1. not\n",
            "1. or\n",
            "1. pass\n",
            "1. raise\n",
            "1. return\n",
            "1. try\n",
            "1. while\n",
            "1. with\n",
            "1. yield\n"
          ],
          "name": "stdout"
        }
      ]
    },
    {
      "cell_type": "markdown",
      "metadata": {
        "id": "1bjbKMtW6dAz"
      },
      "source": [
        "#Palabras reservadas en phyton 3\r\n",
        "1. False\r\n",
        "1. None\r\n",
        "1. True\r\n",
        "1. and\r\n",
        "1. as\r\n",
        "1. assert\r\n",
        "1. break\r\n",
        "1. class\r\n",
        "1. continue\r\n",
        "1. def\r\n",
        "1. del\r\n",
        "1. elif\r\n",
        "1. else\r\n",
        "1. except\r\n",
        "1. finally\r\n",
        "1. for\r\n",
        "1. from\r\n",
        "1. global\r\n",
        "1. if\r\n",
        "1. import\r\n",
        "1. in\r\n",
        "1. is\r\n",
        "1. lambda\r\n",
        "1. nonlocal\r\n",
        "1. not\r\n",
        "1. or\r\n",
        "1. pass\r\n",
        "1. raise\r\n",
        "1. return\r\n",
        "1. try\r\n",
        "1. while\r\n",
        "1. with\r\n",
        "1. yield"
      ]
    },
    {
      "cell_type": "markdown",
      "metadata": {
        "id": "SN1nSKsG6_Ql"
      },
      "source": [
        "## Variable \r\n",
        "Es un espacio de memoria de la computadora para almacenar valores que cambian a lo largo de la ejecución del programa. Este espacio de memoria esta referenciado por un identificador, el cual tiene ciertas reglas de nombrado.\r\n",
        "- No puede iniciar con número\r\n",
        "- No debe ser igual a alguna de las palabras reservadas\r\n",
        "- puede iniciar con_\r\n",
        "- Evitar nombres de variables largas\r\n",
        "- Evitar muy cortos, ejemplo: x,y,i\r\n",
        "- Usar notación snake_case"
      ]
    },
    {
      "cell_type": "code",
      "metadata": {
        "colab": {
          "base_uri": "https://localhost:8080/",
          "height": 53
        },
        "id": "NQ8zehzE7v1T",
        "outputId": "770acc38-a5e1-4f85-8943-17fcce480d89"
      },
      "source": [
        "_2edad = 12\r\n",
        "print(_2edad)\r\n",
        "\"\"\"\r\n",
        "No se puede usar una palabra reservada como identificador de variable:\r\n",
        "for = 12\r\n",
        "print(for)\r\n",
        "\"\"\"\r\n"
      ],
      "execution_count": null,
      "outputs": [
        {
          "output_type": "stream",
          "text": [
            "12\n"
          ],
          "name": "stdout"
        },
        {
          "output_type": "execute_result",
          "data": {
            "application/vnd.google.colaboratory.intrinsic+json": {
              "type": "string"
            },
            "text/plain": [
              "'\\nNo se puede usar una palabra reservada como identificador de variable:\\nfor = 12\\nprint(for)\\n'"
            ]
          },
          "metadata": {
            "tags": []
          },
          "execution_count": 8
        }
      ]
    },
    {
      "cell_type": "code",
      "metadata": {
        "id": "kwYt-iCB9ICJ"
      },
      "source": [
        "\"\"\"\r\n",
        "La notación snake case consta de formar el identificador de variable separando las palabras del mismo con un guión bajo.\r\n",
        "Se recomienda que los identificadores se escriban en minusculas para las variables y en mayúsculas para las constantes.\r\n",
        "Es decir si tenemos una variable para los dias de la semana, se escribirías asi:\r\n",
        "dias_de_la_semana = 7\r\n",
        "dias_mes = 31\r\n",
        "limite_maximo = 100\r\n",
        "\"\"\"\r\n",
        "#Lower camel case\r\n",
        "diasDeLaSemana = 7\r\n",
        "#Upper camel case\r\n",
        "SemanaSanta= 34"
      ],
      "execution_count": null,
      "outputs": []
    },
    {
      "cell_type": "markdown",
      "metadata": {
        "id": "P4BHj10R97mO"
      },
      "source": [
        "#Tipos de datos \r\n",
        "- Tipos numéricos \r\n",
        "   - int 4 bytes (1,2, 23454, etc.)\r\n",
        "   - float 4 bytes (1.14,3.1416,1.0)\r\n",
        "   - long 8 bytes (1,2,23454, etc)\r\n",
        "   - complex 3 + 2j (raíces negativas)\r\n",
        "-Boolean: True o False\r\n",
        "-String cadenas de caracteres (\"cad\", 'cad' o \"\"\"cad\"\"\")\r\n",
        "-listas([1,2,3,4], [a,b,1,2,3]\r\n",
        "-tuplas ((edad,23), (3,4))\r\n",
        "-conjuntos\r\n",
        "-diccionarios ({\"nombre\":\"Juan\"}) "
      ]
    },
    {
      "cell_type": "markdown",
      "metadata": {
        "id": "JvaHyEL8EXwf"
      },
      "source": [
        "#Tipo de dato string\r\n",
        "Este tipo de dato permite almacenar cadenas de caracteres, como por ejemplo:\r\n",
        "-nombre = 'Jesus'\r\n",
        "-lugar_nacimiento = \"México D.F., Tacuba\"\r\n",
        "-frase_favorita = \"\"\"\r\n",
        "El conocimiento me persigue\r\n",
        "pero...\r\n",
        "yo soy mas rápido !!!\r\n"
      ]
    },
    {
      "cell_type": "markdown",
      "metadata": {
        "id": "kAqAGtnpFlI2"
      },
      "source": [
        "#Strings como arreglo\r\n",
        "Un estring en phyton es almacenado como el tipo de dato (estructura de datos) arreglo.\r\n",
        "Por ejmplo la declaración :\r\n",
        "\r\n",
        "nombre = Jesus\r\n",
        "\r\n",
        "El elemento 'J' es almacenado en un arreglo de la posición 0.\r\n",
        "La 'e' en la 1 y así sucesivamente\r\n",
        "###Selector \r\n",
        "La notación para seleccionar un elemento del arreglo es:\r\n",
        "\r\n",
        "[1]\r\n",
        "Donde el valor numérico debe ser un entero \r\n"
      ]
    },
    {
      "cell_type": "code",
      "metadata": {
        "colab": {
          "base_uri": "https://localhost:8080/"
        },
        "id": "9g36RrywGOvy",
        "outputId": "ebc5f91c-e481-4ef5-cad7-9793006281b5"
      },
      "source": [
        "nombre = 'Jesus'\r\n",
        "print(nombre)\r\n",
        "print(nombre[0])\r\n",
        "print(nombre[3])"
      ],
      "execution_count": null,
      "outputs": [
        {
          "output_type": "stream",
          "text": [
            "Jesus\n",
            "J\n",
            "u\n"
          ],
          "name": "stdout"
        }
      ]
    },
    {
      "cell_type": "markdown",
      "metadata": {
        "id": "TohTUbaOHqhc"
      },
      "source": [
        "#Iterar sobre un string\r\n",
        "Se puede iterar sobre un string con un for de la forma:\r\n",
        "```\r\n",
        "for letra in range( len(nombre) ):\r\n",
        "    print(letra)\r\n",
        "```"
      ]
    },
    {
      "cell_type": "code",
      "metadata": {
        "colab": {
          "base_uri": "https://localhost:8080/"
        },
        "id": "-F5GcORkIaF6",
        "outputId": "ce3f2439-4e7a-43ff-e883-5385b2dc33d1"
      },
      "source": [
        "for indice in range(len(nombre)):\r\n",
        "    print(indice, end = \" \")\r\n",
        "    print(nombre[indice])"
      ],
      "execution_count": null,
      "outputs": [
        {
          "output_type": "stream",
          "text": [
            "0 J\n",
            "1 e\n",
            "2 s\n",
            "3 u\n",
            "4 s\n"
          ],
          "name": "stdout"
        }
      ]
    },
    {
      "cell_type": "markdown",
      "metadata": {
        "id": "_iBtrwLeJ_Fi"
      },
      "source": [
        "#función range(inicio,stop,incremento)\r\n",
        "El inicio es opcional y por defecto tiene el valor 0\r\n",
        "\r\n",
        "El incremento también es opcion y por defecto es 1"
      ]
    },
    {
      "cell_type": "code",
      "metadata": {
        "colab": {
          "base_uri": "https://localhost:8080/"
        },
        "id": "quRoQOc8KQRT",
        "outputId": "75960cf9-683d-41e1-e146-45e44d0e630b"
      },
      "source": [
        "for indice in range(0, len(nombre)):\r\n",
        "  print(nombre[indice])\r\n"
      ],
      "execution_count": null,
      "outputs": [
        {
          "output_type": "stream",
          "text": [
            "J\n",
            "e\n",
            "s\n",
            "u\n",
            "s\n"
          ],
          "name": "stdout"
        }
      ]
    },
    {
      "cell_type": "code",
      "metadata": {
        "colab": {
          "base_uri": "https://localhost:8080/"
        },
        "id": "gjf5MKnxL1kj",
        "outputId": "82e0c657-365c-453b-a5ec-71e3465e095f"
      },
      "source": [
        "for indice in range(4,-1,-1):\r\n",
        "  print(nombre[indice])"
      ],
      "execution_count": null,
      "outputs": [
        {
          "output_type": "stream",
          "text": [
            "s\n",
            "u\n",
            "s\n",
            "e\n",
            "J\n"
          ],
          "name": "stdout"
        }
      ]
    },
    {
      "cell_type": "markdown",
      "metadata": {
        "id": "BUsLRPMOMEG1"
      },
      "source": [
        "#Strings e indexado negativo\r\n",
        "En phyton 3 se agrega una nueva caracteristica a los arreglos de las cadenas de caracteres, esta consta de la capacidad de indexar de forma negativa. \r\n",
        "La lógica es la siguiente.\r\n",
        "El ultimo elemento se le considera como índice (alternativo) -1, con lo cual se podría referenciar el final de la cadena sin la necesidad de saber el tamaño de la misma.\r\n",
        "```\r\n",
        "nombre = \"Jesus\"\r\n",
        "indice normal 0  1  2  3  4\r\n",
        "              J  e  s  u  s\r\n",
        "indice alter.-5 -4 -3 -2 -1\r\n",
        "```\r\n"
      ]
    },
    {
      "cell_type": "code",
      "metadata": {
        "colab": {
          "base_uri": "https://localhost:8080/"
        },
        "id": "lTMaDg0bMzyL",
        "outputId": "63c19549-3778-4b11-891c-368ce0f267f8"
      },
      "source": [
        "nombre = \"Jesus\"\r\n",
        "print(nombre[4]) #Indexado normal\r\n",
        "print(nombre[-1]) #\"Indexado negativo\"\r\n",
        "print(\" \")\r\n",
        "for indice_alter in range(-1, -6, -1):\r\n",
        "  print(nombre[indice_alter])"
      ],
      "execution_count": null,
      "outputs": [
        {
          "output_type": "stream",
          "text": [
            "s\n",
            "s\n",
            " \n",
            "s\n",
            "u\n",
            "s\n",
            "e\n",
            "J\n"
          ],
          "name": "stdout"
        }
      ]
    },
    {
      "cell_type": "markdown",
      "metadata": {
        "id": "u2a-RFhlP2i1"
      },
      "source": [
        "#Slicing de cadenas de caracteres \r\n",
        "Esta caracterisitica permite sacar secciones de una cadena con la siguiente sintaxis:\r\n",
        "[inicio,stop,incremento]\r\n",
        "donde inicio e incremento son opcionales y también soportan indexado alternativo (negativos)"
      ]
    },
    {
      "cell_type": "code",
      "metadata": {
        "colab": {
          "base_uri": "https://localhost:8080/"
        },
        "id": "DNYQqsAQQfyR",
        "outputId": "ec6ceb1e-1baf-4e18-c188-713fc347b3c6"
      },
      "source": [
        "facultad = \"Facultad de estudios superiores Aragon (La mejor)\"\r\n",
        "\r\n",
        "print(facultad)\r\n",
        "for indice in range(12,20,1):\r\n",
        "  print(facultad[indice], end = \" \")\r\n",
        "\r\n",
        "# Hcer todo esto mismo con la característica slicing, se lográ así:\r\n",
        "print(\"\\nCon Slicing\")\r\n",
        "print(facultad[12:20:1])\r\n",
        "print(facultad[9:11:1])"
      ],
      "execution_count": null,
      "outputs": [
        {
          "output_type": "stream",
          "text": [
            "Facultad de estudios superiores Aragon (La mejor)\n",
            "e s t u d i o s \n",
            "Con Slicing\n",
            "estudios\n",
            "de\n"
          ],
          "name": "stdout"
        }
      ]
    }
  ]
}