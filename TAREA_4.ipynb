{
  "nbformat": 4,
  "nbformat_minor": 0,
  "metadata": {
    "colab": {
      "name": "TAREA 4",
      "provenance": [],
      "authorship_tag": "ABX9TyOAEcBv0DkHekfX0RUHmPwP",
      "include_colab_link": true
    },
    "kernelspec": {
      "name": "python3",
      "display_name": "Python 3"
    }
  },
  "cells": [
    {
      "cell_type": "markdown",
      "metadata": {
        "id": "view-in-github",
        "colab_type": "text"
      },
      "source": [
        "<a href=\"https://colab.research.google.com/github/Jose19-e/cyp_2021/blob/main/TAREA_4.ipynb\" target=\"_parent\"><img src=\"https://colab.research.google.com/assets/colab-badge.svg\" alt=\"Open In Colab\"/></a>"
      ]
    },
    {
      "cell_type": "code",
      "metadata": {
        "colab": {
          "base_uri": "https://localhost:8080/"
        },
        "id": "wrCnGKHhJLRl",
        "outputId": "1e5b7f00-112f-4599-b450-4623383b0b39"
      },
      "source": [
        "# Página 60 ejercicio 2.4 \n",
        "sueldo = float(input(\"Sueldo: \"))\n",
        "if sueldo > 1000:\n",
        "  Nsueldo = sueldo  * 1.12\n",
        "else:\n",
        "  Nsueldo = sueldo * 1.15  \n",
        "print(Nsueldo)  "
      ],
      "execution_count": 5,
      "outputs": [
        {
          "output_type": "stream",
          "text": [
            "Sueldo: 680.70\n",
            "782.805\n"
          ],
          "name": "stdout"
        }
      ]
    },
    {
      "cell_type": "code",
      "metadata": {
        "colab": {
          "base_uri": "https://localhost:8080/"
        },
        "id": "4MIyoRGaOPol",
        "outputId": "9526f51a-17b3-4c07-bf8d-560feb6c212a"
      },
      "source": [
        "# Página 68, ejercicio 2.8\n",
        "Sueldo = float (input(\"Sueldo del trabajador: \"))\n",
        "categoria = int (input(\"Categoria del trabajador: \"))\n",
        "if categoria == 1:\n",
        "    Nsueldo = Sueldo * 1.15\n",
        "elif categoria == 2:\n",
        "    Nsueldo = Sueldo * 1.1\n",
        "elif categoria == 3:\n",
        "    Nsueldo = Sueldo * 1.08\n",
        "elif categoria == 4:\n",
        "    Nsueldo = Sueldo * 1.07\n",
        "\n",
        "if categoria > 0 and categoria < 5:\n",
        "    print(f\"la categoria es {categoria} y el salario {Nsueldo}\")   \n",
        "else:\n",
        "    print(f\"No existe la categoría {categoria}\")   \n",
        "\n"
      ],
      "execution_count": 28,
      "outputs": [
        {
          "output_type": "stream",
          "text": [
            "Sueldo del trabajador: 4100\n",
            "Categoria del trabajador: 3\n",
            "la categoria es 3 y el salario 4428.0\n"
          ],
          "name": "stdout"
        }
      ]
    }
  ]
}