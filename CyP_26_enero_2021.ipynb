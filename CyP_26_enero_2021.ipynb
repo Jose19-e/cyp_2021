{
  "nbformat": 4,
  "nbformat_minor": 0,
  "metadata": {
    "colab": {
      "name": "CyP_26-enero-2021",
      "provenance": [],
      "authorship_tag": "ABX9TyOnt6TzWweRzJtt6ImYe4Op",
      "include_colab_link": true
    },
    "kernelspec": {
      "name": "python3",
      "display_name": "Python 3"
    }
  },
  "cells": [
    {
      "cell_type": "markdown",
      "metadata": {
        "id": "view-in-github",
        "colab_type": "text"
      },
      "source": [
        "<a href=\"https://colab.research.google.com/github/Jose19-e/cyp_2021/blob/main/CyP_26_enero_2021.ipynb\" target=\"_parent\"><img src=\"https://colab.research.google.com/assets/colab-badge.svg\" alt=\"Open In Colab\"/></a>"
      ]
    },
    {
      "cell_type": "code",
      "metadata": {
        "id": "0QQ1ba_2tXcO"
      },
      "source": [
        ""
      ],
      "execution_count": null,
      "outputs": []
    },
    {
      "cell_type": "markdown",
      "metadata": {
        "id": "EsADw4K5tbAs"
      },
      "source": [
        "#Lisyas de phyton 3 \r\n",
        "1. Es una estructura de datos lineal de 0 o n elementos.\r\n",
        "1. \"Equivalente\" a los arreglos\r\n",
        "1. Puede ser de diferente tipo de dato. [1,2,31,12], [1, True, 2.34, \"Hola\"]\r\n",
        "1. Pueden ser anidados, listas de listas. [\"Melón\", [\"Manzana roja\", \"Manzana amarilla\"]]\r\n",
        "1. Su selector es de la forma: [int]\r\n",
        "1. Son mutables"
      ]
    },
    {
      "cell_type": "code",
      "metadata": {
        "colab": {
          "base_uri": "https://localhost:8080/"
        },
        "id": "974o3yGAu9Sb",
        "outputId": "7eeda7de-b862-48a7-b43b-cc6e8552f185"
      },
      "source": [
        "#ejemplos\r\n",
        "numeros = [4,2,45,7,83,3]\r\n",
        "print(numeros)\r\n",
        "print(numeros[2])\r\n",
        "\r\n",
        "#Una lista de 0 elementos\r\n",
        "colores = [] #list\r\n",
        "type (colores)\r\n",
        "dias = list()\r\n",
        "print(colores)\r\n",
        "print(dias)"
      ],
      "execution_count": 4,
      "outputs": [
        {
          "output_type": "stream",
          "text": [
            "[4, 2, 45, 7, 83, 3]\n",
            "45\n",
            "[]\n",
            "[]\n"
          ],
          "name": "stdout"
        }
      ]
    },
    {
      "cell_type": "code",
      "metadata": {
        "colab": {
          "base_uri": "https://localhost:8080/"
        },
        "id": "3HiMrimgwRY1",
        "outputId": "884388ae-3dad-4e00-f9a2-9848e04ffde0"
      },
      "source": [
        "#Pueden ser de diferentes tipos de datos\r\n",
        "mi_lista=[1,2,3,\"José\",False,1.76,[552345653,4445672673,5565435676]]\r\n",
        "print(mi_lista)\r\n",
        "print(mi_lista[6])\r\n",
        "print(mi_lista[6][1])\r\n",
        "print(mi_lista[3][3])\r\n",
        "print(mi_lista[3][3::])\r\n",
        "print(mi_lista[3][-1::1])"
      ],
      "execution_count": 17,
      "outputs": [
        {
          "output_type": "stream",
          "text": [
            "[1, 2, 3, 'José', False, 1.76, [552345653, 4445672673, 5565435676]]\n",
            "[552345653, 4445672673, 5565435676]\n",
            "4445672673\n",
            "é\n",
            "é\n",
            "é\n"
          ],
          "name": "stdout"
        }
      ]
    },
    {
      "cell_type": "code",
      "metadata": {
        "colab": {
          "base_uri": "https://localhost:8080/"
        },
        "id": "nFfTQLab0WnG",
        "outputId": "c0b0c267-fb93-423b-9292-891b5b831e20"
      },
      "source": [
        "frutas = [\"Melon\",\"sandía\",\"Kiwi\",\"aguacate\",\"mango\",\"Platano\"]\r\n",
        "print(frutas)\r\n",
        "frutas[0] = \"Melón\"\r\n",
        "print(frutas)\r\n",
        "frutas[1] = frutas[1].capitalize()\r\n",
        "print(frutas)"
      ],
      "execution_count": 20,
      "outputs": [
        {
          "output_type": "stream",
          "text": [
            "['Melon', 'sandía', 'Kiwi', 'aguacate', 'mango', 'Platano']\n",
            "['Melón', 'sandía', 'Kiwi', 'aguacate', 'mango', 'Platano']\n",
            "['Melón', 'Sandía', 'Kiwi', 'aguacate', 'mango', 'Platano']\n"
          ],
          "name": "stdout"
        }
      ]
    },
    {
      "cell_type": "code",
      "metadata": {
        "colab": {
          "base_uri": "https://localhost:8080/"
        },
        "id": "8SZr5nFI2KBZ",
        "outputId": "c5db641f-4245-445a-f577-c43f6f444e7b"
      },
      "source": [
        "#Las listas son clases por lo tanto, tienen métodos.\r\n",
        "#ejemplo append agrega un elemento al final\r\n",
        "frutas = [\"Melon\",\"sandía\",\"Kiwi\",\"aguacate\",\"mango\",\"Platano\"]\r\n",
        "frutas.append(\"Fresa\")\r\n",
        "print(frutas)\r\n",
        "\r\n",
        "frutas.clear()\r\n",
        "print(frutas)\r\n",
        "frutas = [\"Melon\",\"sandía\",\"Kiwi\",\"aguacate\",\"mango\",\"Platano\"]\r\n",
        "print(\"Ejemplos de copias\")\r\n",
        "otras_frutas = frutas\r\n",
        "print(frutas)\r\n",
        "print(otras_frutas)\r\n",
        "otras_frutas[0] = \"Chico zapote\"\r\n",
        "print(otras_frutas)\r\n",
        "print(frutas)\r\n",
        "print(\"--------------\")\r\n",
        "print(\"ejemplo de extend\")\r\n",
        "colores = [\"rojo\",\"verde\",\"azul\"]\r\n",
        "frutas.extend(colores)\r\n",
        "print(frutas)\r\n",
        "print(\"Ejemplo insert\")\r\n",
        "frutas.insert(3,\"Limón\")\r\n",
        "print(frutas)\r\n",
        "\r\n",
        "print(\"Ejemplo remove, eliminar el kiwi\")\r\n",
        "frutas.remove(\"Kiwi\")\r\n",
        "print(frutas)\r\n",
        "\r\n",
        "print(\"Ejemplo del\")\r\n",
        "del frutas[2] #Operador de listas\r\n",
        "print(frutas)\r\n",
        "\r\n",
        "frutas.clear()\r\n",
        "print(frutas)\r\n"
      ],
      "execution_count": 31,
      "outputs": [
        {
          "output_type": "stream",
          "text": [
            "['Melon', 'sandía', 'Kiwi', 'aguacate', 'mango', 'Platano', 'Fresa']\n",
            "[]\n",
            "Ejemplos de copias\n",
            "['Melon', 'sandía', 'Kiwi', 'aguacate', 'mango', 'Platano']\n",
            "['Melon', 'sandía', 'Kiwi', 'aguacate', 'mango', 'Platano']\n",
            "['Chico zapote', 'sandía', 'Kiwi', 'aguacate', 'mango', 'Platano']\n",
            "['Chico zapote', 'sandía', 'Kiwi', 'aguacate', 'mango', 'Platano']\n",
            "--------------\n",
            "ejemplo de extend\n",
            "['Chico zapote', 'sandía', 'Kiwi', 'aguacate', 'mango', 'Platano', 'rojo', 'verde', 'azul']\n",
            "Ejemplo insert\n",
            "['Chico zapote', 'sandía', 'Kiwi', 'Limón', 'aguacate', 'mango', 'Platano', 'rojo', 'verde', 'azul']\n",
            "Ejemplo remove, eliminar el kiwi\n",
            "['Chico zapote', 'sandía', 'Limón', 'aguacate', 'mango', 'Platano', 'rojo', 'verde', 'azul']\n",
            "Ejemplo del\n",
            "['Chico zapote', 'sandía', 'aguacate', 'mango', 'Platano', 'rojo', 'verde', 'azul']\n",
            "[]\n"
          ],
          "name": "stdout"
        }
      ]
    },
    {
      "cell_type": "code",
      "metadata": {
        "colab": {
          "base_uri": "https://localhost:8080/"
        },
        "id": "ri1oUItuEXPr",
        "outputId": "36bd8ba6-b3ad-4234-b23b-dee2508c3ced"
      },
      "source": [
        "cosas = [\"jose\",True,2,3,4,5,\"pedro\",1.23]\r\n",
        "indice = 0\r\n",
        "a_eliminar=[]\r\n",
        "for elemento in cosas:\r\n",
        "    if isinstance( elemento , int ) :\r\n",
        "        print(\"entero\",elemento) # cosas.remove(elemento)\r\n",
        "        a_eliminar.append(elemento)\r\n",
        "    indice += 1\r\n",
        "\r\n",
        "print(a_eliminar)\r\n",
        "for indice in a_eliminar:\r\n",
        "    print( indice)\r\n",
        "    cosas.remove(indice)\r\n",
        "print(cosas)"
      ],
      "execution_count": 32,
      "outputs": [
        {
          "output_type": "stream",
          "text": [
            "entero True\n",
            "entero 2\n",
            "entero 3\n",
            "entero 4\n",
            "entero 5\n",
            "[True, 2, 3, 4, 5]\n",
            "True\n",
            "2\n",
            "3\n",
            "4\n",
            "5\n",
            "['jose', 'pedro', 1.23]\n"
          ],
          "name": "stdout"
        }
      ]
    },
    {
      "cell_type": "code",
      "metadata": {
        "colab": {
          "base_uri": "https://localhost:8080/"
        },
        "id": "pPuKBJk_FPCP",
        "outputId": "e35c0200-16e2-496c-ca75-6ff92d935193"
      },
      "source": [
        "frutas = [\"Melon\",\"sandía\",\"Kiwi\",\"aguacate\",\"mango\",\"Platano\"]\r\n",
        "print(frutas[1:4:])\r\n",
        "sistemas_operativos=[\"Windows\",\"Mac Os\",\"Linux\",\"Android\"]\r\n",
        "autos=[\"ford\",\"Mazda\",\"Honda\"]\r\n",
        "cosas = [sistemas_operativos, autos]\r\n",
        "print(cosas)\r\n",
        "print(cosas[1])\r\n",
        "print(cosas[0][2])\r\n",
        "#dro\r\n",
        "print(cosas[0][3][2:5:1])\r\n",
        "#dza\r\n",
        "print(cosas[1][1][-2:-5:-1])"
      ],
      "execution_count": 42,
      "outputs": [
        {
          "output_type": "stream",
          "text": [
            "['sandía', 'Kiwi', 'aguacate']\n",
            "[['Windows', 'Mac Os', 'Linux', 'Android'], ['ford', 'Mazda', 'Honda']]\n",
            "['ford', 'Mazda', 'Honda']\n",
            "Linux\n",
            "dro\n",
            "dza\n"
          ],
          "name": "stdout"
        }
      ]
    }
  ]
}