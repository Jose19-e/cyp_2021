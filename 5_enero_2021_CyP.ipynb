{
  "nbformat": 4,
  "nbformat_minor": 0,
  "metadata": {
    "colab": {
      "name": "5-enero-2021_CyP",
      "provenance": [],
      "authorship_tag": "ABX9TyM1lf10xKJXcNyQiJuEKY8g",
      "include_colab_link": true
    },
    "kernelspec": {
      "name": "python3",
      "display_name": "Python 3"
    }
  },
  "cells": [
    {
      "cell_type": "markdown",
      "metadata": {
        "id": "view-in-github",
        "colab_type": "text"
      },
      "source": [
        "<a href=\"https://colab.research.google.com/github/Jose19-e/cyp_2021/blob/main/5_enero_2021_CyP.ipynb\" target=\"_parent\"><img src=\"https://colab.research.google.com/assets/colab-badge.svg\" alt=\"Open In Colab\"/></a>"
      ]
    },
    {
      "cell_type": "code",
      "metadata": {
        "colab": {
          "base_uri": "https://localhost:8080/"
        },
        "id": "9bVJl4cSjHiy",
        "outputId": "ac3ccf26-1f5f-4726-b60f-873a202a8c5e"
      },
      "source": [
        "sueldos = [0.0 for x in range (7)]\r\n",
        "print(sueldos)\r\n",
        "sueldos[0] = 12.3\r\n",
        "sueldos[1] = 12.3\r\n",
        "sueldos[2] = 12.3\r\n",
        "sueldos[3] = 12.3\r\n",
        "sueldos[4] = 12.3\r\n",
        "sueldos[5] = 12.3\r\n",
        "sueldos[6] = 12.3\r\n",
        "print(sueldos)"
      ],
      "execution_count": 3,
      "outputs": [
        {
          "output_type": "stream",
          "text": [
            "[0.0, 0.0, 0.0, 0.0, 0.0, 0.0, 0.0]\n",
            "[12.3, 12.3, 12.3, 12.3, 12.3, 12.3, 12.3]\n"
          ],
          "name": "stdout"
        }
      ]
    },
    {
      "cell_type": "code",
      "metadata": {
        "colab": {
          "base_uri": "https://localhost:8080/"
        },
        "id": "SrqJKb4MnoEH",
        "outputId": "63cdac41-d546-47c8-a541-fcd694950ec9"
      },
      "source": [
        "sueldo = [float(x) for x in range (7)]\r\n",
        "for i in range (0,7):\r\n",
        "  sueldo[i] = float (i) + 1.0\r\n",
        "print(sueldo)  \r\n"
      ],
      "execution_count": 4,
      "outputs": [
        {
          "output_type": "stream",
          "text": [
            "[1.0, 2.0, 3.0, 4.0, 5.0, 6.0, 7.0]\n"
          ],
          "name": "stdout"
        }
      ]
    },
    {
      "cell_type": "code",
      "metadata": {
        "colab": {
          "base_uri": "https://localhost:8080/"
        },
        "id": "jbRXZAVKos8s",
        "outputId": "67cf3acd-e4d8-497b-80b0-6996711661eb"
      },
      "source": [
        "#Problema 4.1\r\n",
        "MAXIMO = 7\r\n",
        "sueldos = [0.0 for x in range (MAXIMO)]\r\n",
        "suma = 0.0\r\n",
        "promedio = 0.0\r\n",
        "for i in range (7):\r\n",
        "  sueldos[i] = float(input(\"Dame el sueldo: \"))\r\n",
        "for i in range (MAXIMO):\r\n",
        "  print(f\"Trabajador{i+1}, gana: {sueldos[i]}\")  \r\n",
        "for i in range (MAXIMO):\r\n",
        "  suma = suma + sueldos[i]\r\n",
        "promedio = suma / MAXIMO\r\n",
        "print(f\"El promedio es: ${promedio}\")  \r\n",
        "for i in range(7):\r\n",
        "  if sueldos[i] > promedio:\r\n",
        "    print(f\"El trabajador {i+1} tiene un sueldo mayor al promedio\")"
      ],
      "execution_count": 10,
      "outputs": [
        {
          "output_type": "stream",
          "text": [
            "Dame el sueldo: 4\n",
            "Dame el sueldo: 5\n",
            "Dame el sueldo: 4\n",
            "Dame el sueldo: 5\n",
            "Dame el sueldo: 5\n",
            "Dame el sueldo: 4\n",
            "Dame el sueldo: 5\n",
            "Trabajador1, gana: 4.0\n",
            "Trabajador2, gana: 5.0\n",
            "Trabajador3, gana: 4.0\n",
            "Trabajador4, gana: 5.0\n",
            "Trabajador5, gana: 5.0\n",
            "Trabajador6, gana: 4.0\n",
            "Trabajador7, gana: 5.0\n",
            "El promedio es: $4.571428571428571\n",
            "El trabajador 2 tiene un sueldo mayor al promedio\n",
            "El trabajador 4 tiene un sueldo mayor al promedio\n",
            "El trabajador 5 tiene un sueldo mayor al promedio\n",
            "El trabajador 7 tiene un sueldo mayor al promedio\n"
          ],
          "name": "stdout"
        }
      ]
    },
    {
      "cell_type": "code",
      "metadata": {
        "colab": {
          "base_uri": "https://localhost:8080/",
          "height": 316
        },
        "id": "xrX50QLjs9Xd",
        "outputId": "14c6146b-65f1-44bb-b852-14984895105a"
      },
      "source": [
        "# Hacer un programa que solicíte 5 valores \r\n",
        "maximo = 0\r\n",
        "minimo = 5\r\n",
        "numero =  [0 for x in range(5)]\r\n",
        "for i in range (5):\r\n",
        "  numero[i] = int (input(\"Dame un número: \"))\r\n",
        "for i in range (5):\r\n",
        "  if numero[i] > maximo:\r\n",
        "    maximo = i\r\n",
        "  if numero[i] < minimo:\r\n",
        "    minimo = i\r\n",
        "promedio = numero / 5\r\n",
        "pirnt(f\"El numero máximo es{maximo}\")  \r\n",
        "pirnt(f\"El numero máximo es{minimo}\")\r\n",
        "pirnt(f\"El promedio es{promedio}\")\r\n",
        "\r\n",
        "\r\n"
      ],
      "execution_count": 12,
      "outputs": [
        {
          "output_type": "stream",
          "text": [
            "Dame un número: 1\n",
            "Dame un número: 2\n",
            "Dame un número: 3\n",
            "Dame un número: 4\n",
            "Dame un número: 5\n"
          ],
          "name": "stdout"
        },
        {
          "output_type": "error",
          "ename": "TypeError",
          "evalue": "ignored",
          "traceback": [
            "\u001b[0;31m---------------------------------------------------------------------------\u001b[0m",
            "\u001b[0;31mTypeError\u001b[0m                                 Traceback (most recent call last)",
            "\u001b[0;32m<ipython-input-12-2b61db7ba821>\u001b[0m in \u001b[0;36m<module>\u001b[0;34m()\u001b[0m\n\u001b[1;32m     10\u001b[0m   \u001b[0;32mif\u001b[0m \u001b[0mnumero\u001b[0m\u001b[0;34m[\u001b[0m\u001b[0mi\u001b[0m\u001b[0;34m]\u001b[0m \u001b[0;34m<\u001b[0m \u001b[0mminimo\u001b[0m\u001b[0;34m:\u001b[0m\u001b[0;34m\u001b[0m\u001b[0;34m\u001b[0m\u001b[0m\n\u001b[1;32m     11\u001b[0m     \u001b[0mminimo\u001b[0m \u001b[0;34m=\u001b[0m \u001b[0mi\u001b[0m\u001b[0;34m\u001b[0m\u001b[0;34m\u001b[0m\u001b[0m\n\u001b[0;32m---> 12\u001b[0;31m \u001b[0mpromedio\u001b[0m \u001b[0;34m=\u001b[0m \u001b[0mnumero\u001b[0m \u001b[0;34m/\u001b[0m \u001b[0;36m5\u001b[0m\u001b[0;34m\u001b[0m\u001b[0;34m\u001b[0m\u001b[0m\n\u001b[0m\u001b[1;32m     13\u001b[0m \u001b[0mpirnt\u001b[0m\u001b[0;34m(\u001b[0m\u001b[0;34mf\"El numero máximo es{maximo}\"\u001b[0m\u001b[0;34m)\u001b[0m\u001b[0;34m\u001b[0m\u001b[0;34m\u001b[0m\u001b[0m\n\u001b[1;32m     14\u001b[0m \u001b[0mpirnt\u001b[0m\u001b[0;34m(\u001b[0m\u001b[0;34mf\"El numero máximo es{minimo}\"\u001b[0m\u001b[0;34m)\u001b[0m\u001b[0;34m\u001b[0m\u001b[0;34m\u001b[0m\u001b[0m\n",
            "\u001b[0;31mTypeError\u001b[0m: unsupported operand type(s) for /: 'list' and 'int'"
          ]
        }
      ]
    },
    {
      "cell_type": "code",
      "metadata": {
        "colab": {
          "base_uri": "https://localhost:8080/"
        },
        "id": "GXZG6SoSxP4m",
        "outputId": "dad4d75d-fb83-46d1-ce42-b203226b5164"
      },
      "source": [
        "num= 5\r\n",
        "valores= [0 for x in range(num)]\r\n",
        "num_mayor= 0\r\n",
        "num_menor= 1000\r\n",
        "suma= 0\r\n",
        "\r\n",
        "for i in range(num):\r\n",
        "  valores[i]= int (input(f\"Dame el valor {i + 1}: \"))\r\n",
        "  suma= suma + valores[i]\r\n",
        "  if valores[i] > num_mayor:\r\n",
        "    num_mayor = valores [i]\r\n",
        "  if valores[i] < num_menor:\r\n",
        "    num_menor= valores[i]\r\n",
        "promedio= suma/num\r\n",
        "\r\n",
        "print(f''' El mayor de los número es: {num_mayor}\r\n",
        "El menor de los núumeros es: {num_menor}\r\n",
        "El promedio es: {promedio}''')"
      ],
      "execution_count": 13,
      "outputs": [
        {
          "output_type": "stream",
          "text": [
            "Dame el valor 1: 1\n",
            "Dame el valor 2: 2\n",
            "Dame el valor 3: 3\n",
            "Dame el valor 4: 4\n",
            "Dame el valor 5: 5\n",
            " El mayor de los número es: 5\n",
            "El menor de los núumeros es: 1\n",
            "El promedio es: 3.0\n"
          ],
          "name": "stdout"
        }
      ]
    },
    {
      "cell_type": "code",
      "metadata": {
        "colab": {
          "base_uri": "https://localhost:8080/"
        },
        "id": "LpF3pwyRw8CQ",
        "outputId": "de758180-39c1-486b-ceeb-77d0e610eaed"
      },
      "source": [
        "#Problema 4.1\r\n",
        "N = int (input(\"Ingrese el número de elementos del arreglo: \"))\r\n",
        "VEC = []\r\n",
        "if 1 <= N and N <= 500:\r\n",
        "  VEC = [0 for x in range(N) ]\r\n",
        "  for i in range (N):\r\n",
        "    VEC[i] = int (input(\"Ingrese valor\" + str ( i + 1 ) + \":\"))\r\n",
        "  print(\"Listas de numeros sin repiticiones: \")  \r\n",
        "  i = 0\r\n",
        "  while i < N:\r\n",
        "    print(VEC[i])\r\n",
        "    REPET = VEC[i]\r\n",
        "    while i < N and REPET == VEC[i]:\r\n",
        "      i = i + 1\r\n",
        "  i + 1      \r\n",
        "else:\r\n",
        "  print(\"El número de elemntos de del arreglo es incorrecto\")     \r\n",
        "          \r\n"
      ],
      "execution_count": 17,
      "outputs": [
        {
          "output_type": "stream",
          "text": [
            "Ingrese el número de elementos del arreglo: 10\n",
            "Ingrese valor1:2\n",
            "Ingrese valor2:3\n",
            "Ingrese valor3:3\n",
            "Ingrese valor4:3\n",
            "Ingrese valor5:10\n",
            "Ingrese valor6:20\n",
            "Ingrese valor7:20\n",
            "Ingrese valor8:40\n",
            "Ingrese valor9:43\n",
            "Ingrese valor10:51\n",
            "Listas de numeros sin repiticiones: \n",
            "2\n",
            "3\n",
            "10\n",
            "20\n",
            "40\n",
            "43\n",
            "51\n"
          ],
          "name": "stdout"
        }
      ]
    }
  ]
}