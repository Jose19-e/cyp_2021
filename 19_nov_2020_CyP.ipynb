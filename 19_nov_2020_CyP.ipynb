{
  "nbformat": 4,
  "nbformat_minor": 0,
  "metadata": {
    "colab": {
      "name": "19_nov_cyp",
      "provenance": [],
      "authorship_tag": "ABX9TyN/HFf/a1ImPmckxJNBeaJn",
      "include_colab_link": true
    },
    "kernelspec": {
      "name": "python3",
      "display_name": "Python 3"
    }
  },
  "cells": [
    {
      "cell_type": "markdown",
      "metadata": {
        "id": "view-in-github",
        "colab_type": "text"
      },
      "source": [
        "<a href=\"https://colab.research.google.com/github/Jose19-e/cyp_2021/blob/main/19_nov_2020_CyP.ipynb\" target=\"_parent\"><img src=\"https://colab.research.google.com/assets/colab-badge.svg\" alt=\"Open In Colab\"/></a>"
      ]
    },
    {
      "cell_type": "code",
      "metadata": {
        "colab": {
          "base_uri": "https://localhost:8080/"
        },
        "id": "Fa-ZsLeckYPM",
        "outputId": "bff586ee-fa8f-4e8e-ffe7-4d51882bde72"
      },
      "source": [
        "I = 0\n",
        "I = I + 1\n",
        "I = I + 1\n",
        "print(f\"I= { I } \")\n",
        "J = 5 ** 2 / 3\n",
        "print (f\"J = { J }\")"
      ],
      "execution_count": 27,
      "outputs": [
        {
          "output_type": "stream",
          "text": [
            "I= 2 \n",
            "J = 8.333333333333334\n"
          ],
          "name": "stdout"
        }
      ]
    },
    {
      "cell_type": "code",
      "metadata": {
        "colab": {
          "base_uri": "https://localhost:8080/"
        },
        "id": "Oa4S4h1om6RF",
        "outputId": "342a922b-7c01-4d99-af77-a42737aba9f7"
      },
      "source": [
        "#declaración de variables\n",
        "A = 0\n",
        "B = 0\n",
        "C = 0\n",
        "D = 0\n",
        "A = int(input(\"Dame un valor entero:\"))\n",
        "B = int(input(\"Dame un valor entero:\"))\n",
        "C = int(input(\"Dame un valor entero:\"))\n",
        "D = int(input(\"Dame un valor entero:\"))\n",
        "print (D)\n",
        "print (C)\n",
        "print (B)\n",
        "print (A)"
      ],
      "execution_count": 3,
      "outputs": [
        {
          "output_type": "stream",
          "text": [
            "Dame un valor entero:10\n",
            "Dame un valor entero:7\n",
            "Dame un valor entero:6\n",
            "Dame un valor entero:5\n",
            "5\n",
            "6\n",
            "7\n",
            "10\n"
          ],
          "name": "stdout"
        }
      ]
    },
    {
      "cell_type": "code",
      "metadata": {
        "colab": {
          "base_uri": "https://localhost:8080/"
        },
        "id": "7id8cxtAos1m",
        "outputId": "f3f35b11-c947-4d67-b95c-4b9a83273785"
      },
      "source": [
        "#ejemplo 1.7 del libro\n",
        "A = 0\n",
        "B = 0\n",
        "A = int(input(\"Dame un entero:\"))\n",
        "B = int(input(\"Dame otro entero:\"))\n",
        "RES = (A + B)** 2 / 3\n",
        "print(RES)"
      ],
      "execution_count": 4,
      "outputs": [
        {
          "output_type": "stream",
          "text": [
            "Dame un entero:5\n",
            "Dame otro entero:6\n",
            "40.333333333333336\n"
          ],
          "name": "stdout"
        }
      ]
    },
    {
      "cell_type": "code",
      "metadata": {
        "colab": {
          "base_uri": "https://localhost:8080/"
        },
        "id": "9SptaPdLuUyZ",
        "outputId": "631fbdc4-4a22-49c7-c40e-2d8241a7983d"
      },
      "source": [
        "CALFINAL = 0\n",
        "CAL1 = float(input(\"Dame la calificación 1\"))\n",
        "CAL2 = float(input(\"Dame la calificación 2\"))\n",
        "CAL3 = float(input(\"Dame la calificación 3\"))\n",
        "CAL4 = float(input(\"Dame la calificación 4\"))\n",
        "CAL5 = float(input(\"Dame la calificación 4\"))\n",
        "Matricula = int (input(\"Dame tu matricula\") )\n",
        "CALFINAL = ((CAL1 + CAL2 + CAL3 + CAL4 + CAL5) /5 )\n",
        "print(CALFINAL)\n",
        "print(Matricula)\n",
        "\n",
        "\n",
        "\n",
        "\n"
      ],
      "execution_count": 9,
      "outputs": [
        {
          "output_type": "stream",
          "text": [
            "Dame la calificación 18\n",
            "Dame la calificación 28.5\n",
            "Dame la calificación 37\n",
            "Dame la calificación 49\n",
            "Dame la calificación 46\n",
            "Dame tu matricula16500\n",
            "7.7\n",
            "16500\n"
          ],
          "name": "stdout"
        }
      ]
    },
    {
      "cell_type": "code",
      "metadata": {
        "colab": {
          "base_uri": "https://localhost:8080/"
        },
        "id": "lCOAWEzFxsOb",
        "outputId": "d3f1d098-1c39-46b9-a814-427cff7a45ec"
      },
      "source": [
        "NUM1 = 0\n",
        "NUM2 = 0\n",
        "NUM1 = int(input (\"Dame un número\"))\n",
        "NUM2 = int(input (\"Dame un número\"))\n",
        "CUA = (NUM1 ** 2)\n",
        "CUB = (NUM1 ** 3)\n",
        "print(CUA)\n",
        "print(CUB)"
      ],
      "execution_count": 17,
      "outputs": [
        {
          "output_type": "stream",
          "text": [
            "Dame un número2\n",
            "Dame un número2\n",
            "4\n",
            "8\n"
          ],
          "name": "stdout"
        }
      ]
    },
    {
      "cell_type": "code",
      "metadata": {
        "colab": {
          "base_uri": "https://localhost:8080/"
        },
        "id": "LeotW9sX0AiK",
        "outputId": "79d4778a-a10a-4983-c97e-bf1cfd2df92b"
      },
      "source": [
        "BASE = 0\n",
        "ALTURA = 0\n",
        "PERIMETRO = 0\n",
        "BASE = float(input(\"Dame la base\"))\n",
        "ALTURA = float(input(\"Dame la altura\"))\n",
        "PERIMETRO = ((BASE + ALTURA) * 2 )\n",
        "AREA = (BASE * ALTURA)\n",
        "print (f\"el perimetro es {PERIMETRO}\")\n",
        "print (f\"el areas es {AREA}\")"
      ],
      "execution_count": 24,
      "outputs": [
        {
          "output_type": "stream",
          "text": [
            "Dame la base2\n",
            "Dame la altura5\n",
            "el perimetro es 14.0\n",
            "el areas es 10.0\n"
          ],
          "name": "stdout"
        }
      ]
    }
  ]
}