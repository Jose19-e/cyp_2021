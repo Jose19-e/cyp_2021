{
  "nbformat": 4,
  "nbformat_minor": 0,
  "metadata": {
    "colab": {
      "name": "Tarea 3",
      "provenance": [],
      "authorship_tag": "ABX9TyPQum1DYqW48mV5xwEBWip3",
      "include_colab_link": true
    },
    "kernelspec": {
      "name": "python3",
      "display_name": "Python 3"
    }
  },
  "cells": [
    {
      "cell_type": "markdown",
      "metadata": {
        "id": "view-in-github",
        "colab_type": "text"
      },
      "source": [
        "<a href=\"https://colab.research.google.com/github/Jose19-e/cyp_2021/blob/main/Tarea_3.ipynb\" target=\"_parent\"><img src=\"https://colab.research.google.com/assets/colab-badge.svg\" alt=\"Open In Colab\"/></a>"
      ]
    },
    {
      "cell_type": "code",
      "metadata": {
        "id": "BxmH3UbIJwhg",
        "colab": {
          "base_uri": "https://localhost:8080/"
        },
        "outputId": "71de9396-9b83-463b-8b23-22aa956caebb"
      },
      "source": [
        "#Ejercicio 1.1\n",
        "\n",
        "PREPRO = 0\n",
        "PAGO = 0\n",
        "DEVO = 0\n",
        "PREPRO = float (input(\"Precio del producto \"))\n",
        "PAGO = float (input(\"Pago realizado \"))\n",
        "DEVO = PAGO - PREPRO\n",
        "print(DEVO)"
      ],
      "execution_count": 7,
      "outputs": [
        {
          "output_type": "stream",
          "text": [
            "Precio del producto 86.25\n",
            "Pago realizado 100\n",
            "13.75\n"
          ],
          "name": "stdout"
        }
      ]
    },
    {
      "cell_type": "code",
      "metadata": {
        "colab": {
          "base_uri": "https://localhost:8080/"
        },
        "id": "SHbB3nUHMCV6",
        "outputId": "1a2500f7-b842-4b59-835b-0207e13bc7c4"
      },
      "source": [
        "#Ejercicio 1.2\n",
        "BASE = 0\n",
        "ALTURA = 0\n",
        "SUP = 0\n",
        "BASE = float (input(\"Introduce la base del triángulo \"))\n",
        "ALTURA = float (input(\"Introduce la altura del triángulo \"))\n",
        "SUP = (BASE * ALTURA)/2\n",
        "print(SUP)"
      ],
      "execution_count": 8,
      "outputs": [
        {
          "output_type": "stream",
          "text": [
            "Introduce la base del triángulo8.50\n",
            "Introduce la altura del triángulo7.20\n",
            "30.6\n"
          ],
          "name": "stdout"
        }
      ]
    },
    {
      "cell_type": "code",
      "metadata": {
        "colab": {
          "base_uri": "https://localhost:8080/"
        },
        "id": "t0mnuLdpNpjK",
        "outputId": "32c599b0-d7c2-4a1c-aea6-e89ea5946ad5"
      },
      "source": [
        "#Ejercicio 1.3\n",
        "PES = 0\n",
        "LON = 0\n",
        "PESKIL = 0\n",
        "LONMET = 0\n",
        "NOMBRE = input(\"Nombre del dinosaurio : \")\n",
        "PES = float (input(\"Peso del dinosaurio en lb \"))\n",
        "LON = float (input(\"Longitud del dinosaurio en pies \"))\n",
        "PESKIL = PES * 1000\n",
        "LONMET = LON * 0.3047\n",
        "print(f\"Nombre del dinosaurio: {NOMBRE}\")\n",
        "print(f\"Peso en kilogramos: {PESKIL}\")\n",
        "print(f\"Longitud en metros: {LONMET}\")"
      ],
      "execution_count": 13,
      "outputs": [
        {
          "output_type": "stream",
          "text": [
            "Nombre del dinosaurio : PLATEOSAURUS\n",
            "Peso del dinosaurio en lb 5\n",
            "Longitud del dinosaurio en pies 30\n",
            "Nombre del dinosaurio: PLATEOSAURUS\n",
            "Peso en kilogramos: 5000.0\n",
            "Longitud en metros: 9.141\n"
          ],
          "name": "stdout"
        }
      ]
    },
    {
      "cell_type": "code",
      "metadata": {
        "colab": {
          "base_uri": "https://localhost:8080/"
        },
        "id": "Mh04IqidQjNZ",
        "outputId": "2cbe407b-e77b-444a-b8bc-d9888c7504b0"
      },
      "source": [
        "#Ejercicio 1.4\n",
        "GAL = 0\n",
        "TOTAL = 0\n",
        "GAL = float (input(\"Introduzca el número de galones \"))\n",
        "TOTAL = (GAL * 3.785 * 8.20)\n",
        "print(TOTAL)"
      ],
      "execution_count": 19,
      "outputs": [
        {
          "output_type": "stream",
          "text": [
            "Introduzca el número de galones 10.38\n",
            "322.16406\n"
          ],
          "name": "stdout"
        }
      ]
    },
    {
      "cell_type": "code",
      "metadata": {
        "colab": {
          "base_uri": "https://localhost:8080/"
        },
        "id": "EWtnsmS6Ufp4",
        "outputId": "a2643ed1-f450-4155-f022-4deecea12bcf"
      },
      "source": [
        "#Ejercicio 1.5\n",
        "RADIO = 0\n",
        "ALTU = 0\n",
        "RADIO = float (input(\"Radio del cilindro: \"))\n",
        "ALTU = float (input(\"Altura del cilindro: \"))\n",
        "VOL = 3.141592 * (RADIO ** 2) * ALTU\n",
        "ARE = (2 * 3.141592) * RADIO * ALTU\n",
        "print(f\"El volumen es: {VOL}\")\n",
        "print(f\"El área es: {ARE}\")"
      ],
      "execution_count": 25,
      "outputs": [
        {
          "output_type": "stream",
          "text": [
            "Radio del cilindro: 45.22\n",
            "Altura del cilindro: 11.60\n",
            "El volumen es: 74519.32074597248\n",
            "El área es: 3295.856733568\n"
          ],
          "name": "stdout"
        }
      ]
    },
    {
      "cell_type": "code",
      "metadata": {
        "colab": {
          "base_uri": "https://localhost:8080/"
        },
        "id": "7n3EqqfRpfpH",
        "outputId": "d5cd5ca5-7971-4f33-bd88-4d38377c5d91"
      },
      "source": [
        "#Ejercicio 1.6\n",
        "DIAS = 0\n",
        "SEG = 0\n",
        "DIAS = int (input(\"Número de días: \"))\n",
        "SEG = DIAS * 24 *60 *60\n",
        "print(f\"El equivalente en segundos es: {SEG}\")"
      ],
      "execution_count": 26,
      "outputs": [
        {
          "output_type": "stream",
          "text": [
            "Número de días: 7\n",
            "El equivalente en segundos es: 604800\n"
          ],
          "name": "stdout"
        }
      ]
    }
  ]
}