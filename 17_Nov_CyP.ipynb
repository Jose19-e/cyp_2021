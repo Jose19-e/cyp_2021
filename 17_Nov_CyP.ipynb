{
  "nbformat": 4,
  "nbformat_minor": 0,
  "metadata": {
    "colab": {
      "name": "17_Nov_CyP.ipynb",
      "provenance": [],
      "authorship_tag": "ABX9TyNHDmPP0nuOBSTHN7efG6E7",
      "include_colab_link": true
    },
    "kernelspec": {
      "name": "python3",
      "display_name": "Python 3"
    }
  },
  "cells": [
    {
      "cell_type": "markdown",
      "metadata": {
        "id": "view-in-github",
        "colab_type": "text"
      },
      "source": [
        "<a href=\"https://colab.research.google.com/github/Jose19-e/cyp_2021/blob/main/17_Nov_CyP.ipynb\" target=\"_parent\"><img src=\"https://colab.research.google.com/assets/colab-badge.svg\" alt=\"Open In Colab\"/></a>"
      ]
    },
    {
      "cell_type": "code",
      "metadata": {
        "colab": {
          "base_uri": "https://localhost:8080/"
        },
        "id": "L2ehOnBtSAT9",
        "outputId": "bd68d4c6-abaa-4202-840d-113f07b151a7"
      },
      "source": [
        "edad = 15\n",
        "estatura = 1.67\n",
        "a= 10\n",
        "b=3\n",
        "c= 2 ** b\n",
        "print (c)\n",
        "e = estatura * 2.0\n",
        "print (e)\n",
        "\n",
        "f = a/b # en phyton se hace el cálculo exacto\n",
        "print (f) # 3.3333\n",
        "#también podemos forzar al cálculo de enteros \n",
        "g = a//b\n",
        "print (g)\n",
        "h = a % b\n",
        "print (\"h=\",h)\n",
        "num = 10\n",
        "print (\"Es par num ?\", (num % 2) ==0)\n",
        "ecuacion = 9 + 7 * 8 - 36 / 5 \n",
        "print (ecuacion)"
      ],
      "execution_count": 9,
      "outputs": [
        {
          "output_type": "stream",
          "text": [
            "8\n",
            "3.34\n",
            "3.3333333333333335\n",
            "3\n",
            "h= 1\n",
            "Es par num ? True\n",
            "57.8\n"
          ],
          "name": "stdout"
        }
      ]
    },
    {
      "cell_type": "code",
      "metadata": {
        "colab": {
          "base_uri": "https://localhost:8080/"
        },
        "id": "yOLoKTZPb6l5",
        "outputId": "82ddfde8-bf72-49dd-bdff-8a17210b0a28"
      },
      "source": [
        "#operadores logicos -----> True y False\n",
        "\n",
        "x = 5\n",
        "y = 4\n",
        "valor = (x == y) #False\n",
        "print (valor)\n",
        "valor = (x != y) #True\n",
        "print (valor)\n",
        "valor = (x < y) #False\n",
        "print (valor)\n",
        "valor = (x > y) #True\n",
        "print (valor)\n",
        "y = 5\n",
        "valor= (x <= y) # x es menor igual que y ? True\n",
        "print (valor)"
      ],
      "execution_count": 18,
      "outputs": [
        {
          "output_type": "stream",
          "text": [
            "False\n",
            "True\n",
            "False\n",
            "True\n",
            "True\n"
          ],
          "name": "stdout"
        }
      ]
    },
    {
      "cell_type": "code",
      "metadata": {
        "colab": {
          "base_uri": "https://localhost:8080/"
        },
        "id": "ZzJ9aJcFfhHx",
        "outputId": "945f7c3d-309b-43d9-f5da-216028d278e5"
      },
      "source": [
        "costo_chetos = 7.0\n",
        "tienda_abierta = True\n",
        "capital_en_bolsa = 10.00\n",
        "se_compra = (costo_chetos < capital_en_bolsa) and (tienda_abierta == True)\n",
        "print (se_compra)"
      ],
      "execution_count": 21,
      "outputs": [
        {
          "output_type": "stream",
          "text": [
            "True\n"
          ],
          "name": "stdout"
        }
      ]
    }
  ]
}