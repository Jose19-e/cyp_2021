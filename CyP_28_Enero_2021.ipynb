{
  "nbformat": 4,
  "nbformat_minor": 0,
  "metadata": {
    "colab": {
      "name": "CyP_28_Enero_2021",
      "provenance": [],
      "authorship_tag": "ABX9TyN17/BBdgTdDQaitvOQ8uga",
      "include_colab_link": true
    },
    "kernelspec": {
      "name": "python3",
      "display_name": "Python 3"
    }
  },
  "cells": [
    {
      "cell_type": "markdown",
      "metadata": {
        "id": "view-in-github",
        "colab_type": "text"
      },
      "source": [
        "<a href=\"https://colab.research.google.com/github/Jose19-e/cyp_2021/blob/main/CyP_28_Enero_2021.ipynb\" target=\"_parent\"><img src=\"https://colab.research.google.com/assets/colab-badge.svg\" alt=\"Open In Colab\"/></a>"
      ]
    },
    {
      "cell_type": "markdown",
      "metadata": {
        "id": "V9dSqKAIBjdP"
      },
      "source": [
        "#Tuplas \r\n",
        "- Tipo de dato lineal, estructura de datos\r\n",
        "- No mutable\r\n",
        "- Puede contener de 0 a n elementos\r\n",
        "- Se declara con '('y')'\r\n",
        "- No puedes agregar, ni eliminar elementos.\r\n",
        "- Pueden ser anidadas.\r\n",
        "- Los argumentos a una función son enviadas como tuplas."
      ]
    },
    {
      "cell_type": "code",
      "metadata": {
        "colab": {
          "base_uri": "https://localhost:8080/"
        },
        "id": "EkoLQNGDCizm",
        "outputId": "34158434-7444-4a07-9095-14b44fe40c9d"
      },
      "source": [
        "frutas = ('Sandia', 'Melón','Limón','Mango')\r\n",
        "print(frutas)\r\n",
        "#slicing para sacar melón y limón\r\n",
        "print(frutas[1:3:1])\r\n",
        "print(frutas.count('Melón'))\r\n",
        "\r\n",
        "#Son inmutables\r\n",
        "#frutas[1] = \"Manzana\"  /no se puede\r\n",
        "#¿Para que se usan?\r\n",
        "conexion = ()"
      ],
      "execution_count": 3,
      "outputs": [
        {
          "output_type": "stream",
          "text": [
            "('Sandia', 'Melón', 'Limón', 'Mango')\n",
            "('Melón', 'Limón')\n",
            "1\n"
          ],
          "name": "stdout"
        }
      ]
    },
    {
      "cell_type": "markdown",
      "metadata": {
        "id": "7vSEXl5HFt7t"
      },
      "source": [
        "#Diccionarios\r\n",
        "-Estructura de datos semi-lineal.\r\n",
        "- Formada por pares, llave-valor.\r\n",
        "- Son equivalentes al tipo de dato JSON, de JavaScript.\r\n",
        "- Utiliza organización por función de dispersión\r\n",
        "- Se declara con los elementos '{'y'}'\r\n",
        "- El selector usa valores de tipo string (llave)\r\n",
        "- No se puede seleccionar por offset[1]\r\n",
        "- Son mutables"
      ]
    },
    {
      "cell_type": "code",
      "metadata": {
        "colab": {
          "base_uri": "https://localhost:8080/"
        },
        "id": "GxtjJ14dJRco",
        "outputId": "ac602fa3-b127-4a97-d9d0-08f8c8944dfa"
      },
      "source": [
        "alumno = {'Nombre':'Juan Pérez','edad':18}\r\n",
        "print(alumno)\r\n",
        "print(alumno['Nombre'])"
      ],
      "execution_count": 7,
      "outputs": [
        {
          "output_type": "stream",
          "text": [
            "{'Nombre': 'Juan Pérez', 'edad': 18}\n",
            "Juan Pérez\n"
          ],
          "name": "stdout"
        }
      ]
    },
    {
      "cell_type": "code",
      "metadata": {
        "colab": {
          "base_uri": "https://localhost:8080/"
        },
        "id": "BPfN5tS7MLh0",
        "outputId": "72e34603-f7be-4b3d-fc69-aca29514c3c3"
      },
      "source": [
        "alumno = { 'nombre':'Juan Pérez','edad':18,'altura':1.71,'estatus':'Aprobado','numeros':[555645902, 55326372]}\r\n",
        "print(alumno)\r\n",
        "print( f\"Celular del alumno {alumno ['numeros'][0]}\")"
      ],
      "execution_count": 12,
      "outputs": [
        {
          "output_type": "stream",
          "text": [
            "{'nombre': 'Juan Pérez', 'edad': 18, 'altura': 1.71, 'estatus': 'Aprobado', 'numeros': [555645902, 55326372]}\n",
            "Celular del alumno 555645902\n"
          ],
          "name": "stdout"
        }
      ]
    },
    {
      "cell_type": "code",
      "metadata": {
        "id": "fPDmuLreZaW5"
      },
      "source": [
        "#  kareli\r\n",
        "alumno = {    'nombre'  : 'Juan Pérez'  ,\r\n",
        "          'edad' : 18, \r\n",
        "          'Matricula': 312193,\r\n",
        "          'calificaciones' : {'Mate': 8 , 'ciencias': 9, 'ingles': 8 },\r\n",
        "          'aprovado' : True,\r\n",
        "          'direccion': {\r\n",
        "                        'calle':'Rancho seco',\r\n",
        "                        'numero': 's/n',\r\n",
        "                        'colonia': 'impulsora popular avicola',\r\n",
        "                        'municipio': 'Mi-nezota',\r\n",
        "                        'estado':{\r\n",
        "                                   'clave':15,\r\n",
        "                                   'nombre_clave':'MEX',\r\n",
        "                                   'nombre':\"Estado de México\"\r\n",
        "                                  }\r\n",
        "                       }\r\n",
        "          }"
      ],
      "execution_count": null,
      "outputs": []
    },
    {
      "cell_type": "code",
      "metadata": {
        "colab": {
          "base_uri": "https://localhost:8080/"
        },
        "id": "_tZXHPu_VGU1",
        "outputId": "e73d8d5a-9b16-474c-a31d-b04169e74ecc"
      },
      "source": [
        "funciones = dir(dict)\r\n",
        "for funcion in funciones:\r\n",
        "  print(funcion)"
      ],
      "execution_count": 13,
      "outputs": [
        {
          "output_type": "stream",
          "text": [
            "__class__\n",
            "__contains__\n",
            "__delattr__\n",
            "__delitem__\n",
            "__dir__\n",
            "__doc__\n",
            "__eq__\n",
            "__format__\n",
            "__ge__\n",
            "__getattribute__\n",
            "__getitem__\n",
            "__gt__\n",
            "__hash__\n",
            "__init__\n",
            "__init_subclass__\n",
            "__iter__\n",
            "__le__\n",
            "__len__\n",
            "__lt__\n",
            "__ne__\n",
            "__new__\n",
            "__reduce__\n",
            "__reduce_ex__\n",
            "__repr__\n",
            "__setattr__\n",
            "__setitem__\n",
            "__sizeof__\n",
            "__str__\n",
            "__subclasshook__\n",
            "clear\n",
            "copy\n",
            "fromkeys\n",
            "get\n",
            "items\n",
            "keys\n",
            "pop\n",
            "popitem\n",
            "setdefault\n",
            "update\n",
            "values\n"
          ],
          "name": "stdout"
        }
      ]
    },
    {
      "cell_type": "markdown",
      "metadata": {
        "id": "kH48MpVFVtIu"
      },
      "source": [
        "#Manipulación de los pares llave valor:\r\n",
        "Para ello se emplean los métodos:\r\n",
        "- Keys() te regresa una tupla con los strings llave del diccionario.\r\n",
        "- Values() te regresa solo los valores\r\n",
        "- Items() te regresa los pares\r\n"
      ]
    },
    {
      "cell_type": "code",
      "metadata": {
        "colab": {
          "base_uri": "https://localhost:8080/"
        },
        "id": "D8ZxTK_bWSwd",
        "outputId": "3fe9d987-c691-400b-a8b3-6327d69356d5"
      },
      "source": [
        "print(alumno)\r\n",
        "llaves = alumno.keys()\r\n",
        "print(llaves)\r\n",
        "for elem in llaves:\r\n",
        "  print(elem)\r\n",
        "  print(alumno[elem])\r\n",
        "#manipular los valores\r\n",
        "valores = alumno.values()\r\n",
        "print(valores)\r\n",
        "print(\"-.-.-.-.-.-.-\")\r\n",
        "for val in valores:\r\n",
        "  print(val)\r\n",
        "#manipular pares\r\n",
        "pares = alumno.items()\r\n",
        "print(pares)\r\n",
        "for par in pares:\r\n",
        "  print(par)  "
      ],
      "execution_count": 16,
      "outputs": [
        {
          "output_type": "stream",
          "text": [
            "{'nombre': 'Juan Pérez', 'edad': 18, 'altura': 1.71, 'estatus': 'Aprobado', 'numeros': [555645902, 55326372]}\n",
            "dict_keys(['nombre', 'edad', 'altura', 'estatus', 'numeros'])\n",
            "nombre\n",
            "Juan Pérez\n",
            "edad\n",
            "18\n",
            "altura\n",
            "1.71\n",
            "estatus\n",
            "Aprobado\n",
            "numeros\n",
            "[555645902, 55326372]\n",
            "dict_values(['Juan Pérez', 18, 1.71, 'Aprobado', [555645902, 55326372]])\n",
            "-.-.-.-.-.-.-\n",
            "Juan Pérez\n",
            "18\n",
            "1.71\n",
            "Aprobado\n",
            "[555645902, 55326372]\n",
            "dict_items([('nombre', 'Juan Pérez'), ('edad', 18), ('altura', 1.71), ('estatus', 'Aprobado'), ('numeros', [555645902, 55326372])])\n",
            "('nombre', 'Juan Pérez')\n",
            "('edad', 18)\n",
            "('altura', 1.71)\n",
            "('estatus', 'Aprobado')\n",
            "('numeros', [555645902, 55326372])\n"
          ],
          "name": "stdout"
        }
      ]
    }
  ]
}