{
  "nbformat": 4,
  "nbformat_minor": 0,
  "metadata": {
    "colab": {
      "name": "Tarea 8",
      "provenance": [],
      "authorship_tag": "ABX9TyMtBScke1DdZunPN1rfnB5x",
      "include_colab_link": true
    },
    "kernelspec": {
      "name": "python3",
      "display_name": "Python 3"
    }
  },
  "cells": [
    {
      "cell_type": "markdown",
      "metadata": {
        "id": "view-in-github",
        "colab_type": "text"
      },
      "source": [
        "<a href=\"https://colab.research.google.com/github/Jose19-e/cyp_2021/blob/main/Tarea_8.ipynb\" target=\"_parent\"><img src=\"https://colab.research.google.com/assets/colab-badge.svg\" alt=\"Open In Colab\"/></a>"
      ]
    },
    {
      "cell_type": "code",
      "metadata": {
        "id": "6b38dpHCOisW",
        "colab": {
          "base_uri": "https://localhost:8080/"
        },
        "outputId": "d3b7a5f0-7b90-48a3-bfb7-2c569d216dbd"
      },
      "source": [
        "#Marco Superior\r\n",
        "marco = \"\\u2623\"\r\n",
        "letra = \"\\u2630\"\r\n",
        "s = \" \"\r\n",
        "#MARCO SUPERIOR\r\n",
        "print(f\"{marco * 40}\")\r\n",
        "#Linea 1\r\n",
        "print(f\"{marco} {letra*8}    {letra*6 + s*4} {letra*7}\", end=\"\")\r\n",
        "print(f\"{s*2} {letra*8} {s + marco}\")\r\n",
        "#LInea 2\r\n",
        "print(f\"{marco + s*5} {letra + s*8} {letra + s*9} {letra + s*2} {letra}\", end=\"\")\r\n",
        "print(f\"{s*13 + letra} {s*12 + marco}\")\r\n",
        "#Linea 3\r\n",
        "print(f\"{marco + s*5} {letra + s*8} {letra + s*9} {letra + s*3} {letra}\", end=\"\") \r\n",
        "print(f\"{s*12 + letra} {s*12 + marco}\")\r\n",
        "#Linea 4\r\n",
        "print(f\"{marco + s*5} {letra + s*8} {letra + s*9} {letra + s*5} {letra*3}\", end=\"\")\r\n",
        "print(f\"{s*7 + letra*6} {s*4 + marco}\")\r\n",
        "#Linea 5\r\n",
        "print(f\"{marco + s*5} {letra + s*8} {letra + s*9} {letra + s*10} {letra}\", end=\"\")\r\n",
        "print(f\"{s*5 + letra} {s*12 + marco}\")\r\n",
        "#Linea 6\r\n",
        "print(f\"{marco + s*5} {letra + s*8} {letra + s*9} {letra + s*11} {letra}\", end=\"\")\r\n",
        "print(f\"{s*4 + letra} {s*12 + marco}\")\r\n",
        "#Linea 7\r\n",
        "print(f\"{marco} {letra*4} {s*10 + letra*6}{s*4 + letra*7} {s*3 + letra*8} {s + marco}\")\r\n",
        "#Marco inferior\r\n",
        "print(f\"{marco * 40}\")"
      ],
      "execution_count": 260,
      "outputs": [
        {
          "output_type": "stream",
          "text": [
            "☣☣☣☣☣☣☣☣☣☣☣☣☣☣☣☣☣☣☣☣☣☣☣☣☣☣☣☣☣☣☣☣☣☣☣☣☣☣☣☣\n",
            "☣ ☰☰☰☰☰☰☰☰    ☰☰☰☰☰☰     ☰☰☰☰☰☰☰   ☰☰☰☰☰☰☰☰  ☣\n",
            "☣      ☰         ☰          ☰   ☰             ☰             ☣\n",
            "☣      ☰         ☰          ☰    ☰            ☰             ☣\n",
            "☣      ☰         ☰          ☰      ☰☰☰       ☰☰☰☰☰☰     ☣\n",
            "☣      ☰         ☰          ☰           ☰     ☰             ☣\n",
            "☣      ☰         ☰          ☰            ☰    ☰             ☣\n",
            "☣ ☰☰☰☰           ☰☰☰☰☰☰    ☰☰☰☰☰☰☰    ☰☰☰☰☰☰☰☰  ☣\n",
            "☣☣☣☣☣☣☣☣☣☣☣☣☣☣☣☣☣☣☣☣☣☣☣☣☣☣☣☣☣☣☣☣☣☣☣☣☣☣☣☣\n"
          ],
          "name": "stdout"
        }
      ]
    }
  ]
}