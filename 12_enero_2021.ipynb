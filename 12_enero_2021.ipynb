{
  "nbformat": 4,
  "nbformat_minor": 0,
  "metadata": {
    "colab": {
      "name": "12_enero_2021",
      "provenance": [],
      "authorship_tag": "ABX9TyO/kxhlJhtpQQqFR+Alsn7C",
      "include_colab_link": true
    },
    "kernelspec": {
      "name": "python3",
      "display_name": "Python 3"
    }
  },
  "cells": [
    {
      "cell_type": "markdown",
      "metadata": {
        "id": "view-in-github",
        "colab_type": "text"
      },
      "source": [
        "<a href=\"https://colab.research.google.com/github/Jose19-e/cyp_2021/blob/main/12_enero_2021.ipynb\" target=\"_parent\"><img src=\"https://colab.research.google.com/assets/colab-badge.svg\" alt=\"Open In Colab\"/></a>"
      ]
    },
    {
      "cell_type": "code",
      "metadata": {
        "id": "BAoM27y_l0op"
      },
      "source": [
        ""
      ],
      "execution_count": null,
      "outputs": []
    },
    {
      "cell_type": "markdown",
      "metadata": {
        "id": "siprfZampViI"
      },
      "source": [
        "#Introducción a phyton\r\n",
        "- craedo en los 90´s por Guido Van R. \r\n",
        "- En el 2000 phyton mejora y tiene nuevas características\r\n",
        "características.\r\n",
        "- En el 2020 deja de ser la version oficial phyton 2.7 y solo se le dará soporte a phyton 3 en adelante.\r\n",
        "\r\n",
        "#Características de phyton\r\n",
        "1. Lenguaje de propósito general \r\n",
        "2. Interpretado y no-compilado\r\n",
        "3. Tipos de datos dinámicos. (numéricos, cadena, bool, entre otros.)\r\n",
        "4. Multiplataforma \r\n",
        "5. Lenguaje multi-paradigma. (Imperativa, Poo, y funcional)\r\n",
        "6. Codigo estructura por identación \r\n",
        "\r\n",
        "#Principios de zen phyton\r\n",
        "Son las características que guian el diseño de los lenguajes de phyton\r\n"
      ]
    },
    {
      "cell_type": "code",
      "metadata": {
        "colab": {
          "base_uri": "https://localhost:8080/"
        },
        "id": "lJt3OzhUusJ3",
        "outputId": "78aa6677-6f6b-4145-9fe0-4a9eda79ba4b"
      },
      "source": [
        "nombre = \"José\"\r\n",
        "edad = 18\r\n",
        "print(\"Hola\", nombre, edad)"
      ],
      "execution_count": 3,
      "outputs": [
        {
          "output_type": "stream",
          "text": [
            "Hola José 18\n"
          ],
          "name": "stdout"
        }
      ]
    },
    {
      "cell_type": "markdown",
      "metadata": {
        "id": "nJDT7SHvvqhv"
      },
      "source": [
        "#La función print():\r\n",
        "Es una de las funciones más empleadas en programación y busca enviar datos a la salida estandar (monitor)\r\n",
        "1. Con comas\r\n",
        "1. Con signos ++\r\n",
        "1. .format()\r\n",
        "1. El operador f\"\r\n",
        "#Con comas \r\n",
        "-Cocatena los argumentos enviados a print y les agrega un espacio con signo +\r\n",
        "#### con los signos +\r\n",
        "-Concatena los valores sin espacio y sin hacer conversión de tipos\r\n",
        "#### con la función format()\r\n",
        "- Permite darle formato a la salida  de la impresión de variables. Emplea la función format de el tipo de dato string.\r\n",
        "\r\n"
      ]
    },
    {
      "cell_type": "code",
      "metadata": {
        "colab": {
          "base_uri": "https://localhost:8080/"
        },
        "id": "xLWI8Zz5w8PI",
        "outputId": "2b087905-843f-4987-994f-c5aa7d1cb169"
      },
      "source": [
        "print(\"HOLA\",nombre,edad)\r\n",
        "print(\"HOLA \" + nombre + \" \" + str(edad))\r\n",
        "#Nombre: José, con una edad de : 18 años.\r\n",
        "print(\"Nombre:\", nombre, \"Con una edad de:\", edad , \"años\")\r\n",
        "print(\"Nombre: \" + nombre + \" Con una edad de: \" +  str(edad) + \" años\")\r\n",
        "#Con format \r\n",
        "print(\"Nombre: {0} con una edad de: {1} años.\".format(nombre,edad))\r\n",
        "#Con el operador f\r\n",
        "print(f\"Nombre: {nombre} con una edad de: {edad} años.\")"
      ],
      "execution_count": 15,
      "outputs": [
        {
          "output_type": "stream",
          "text": [
            "HOLA José 18\n",
            "HOLA José 18\n",
            "Nombre: José Con una edad de: 18 años\n",
            "Nombre: José Con una edad de: 18 años\n",
            "Nombre: José con una edad de: 18 años.\n",
            "Nombre: José con una edad de: 18 años.\n"
          ],
          "name": "stdout"
        }
      ]
    },
    {
      "cell_type": "markdown",
      "metadata": {
        "id": "Wf7hWJSk2OvS"
      },
      "source": [
        "#Función print() y los caracteres de escape\r\n",
        "- \\n salto de linea \r\n",
        "- \\t tabulador\r\n",
        "- \\imprimir la diagonal\r\n",
        "- "
      ]
    },
    {
      "cell_type": "code",
      "metadata": {
        "colab": {
          "base_uri": "https://localhost:8080/"
        },
        "id": "OtGciyu-27yp",
        "outputId": "ec1ac53c-ee81-4c86-ed50-2d3d539279b4"
      },
      "source": [
        "print('\"')\r\n",
        "print(\"\\\"\")\r\n",
        "print(\"Nombre: José\\n\\t con una edad de : 18 años.\")\r\n",
        "#caracteres unicode\r\n",
        "print(\"hola \\u2661\")"
      ],
      "execution_count": 20,
      "outputs": [
        {
          "output_type": "stream",
          "text": [
            "\"\n",
            "\"\n",
            "Nombre: José\n",
            "\t con una edad de : 18 años.\n",
            "hola ♡\n"
          ],
          "name": "stdout"
        }
      ]
    },
    {
      "cell_type": "markdown",
      "metadata": {
        "id": "px0IJPj48Ths"
      },
      "source": [
        "##Print y salto de linea en el argumento \r\n",
        "print([Listas de variables],end=\"\\n\")"
      ]
    },
    {
      "cell_type": "code",
      "metadata": {
        "colab": {
          "base_uri": "https://localhost:8080/"
        },
        "id": "9DUcN-F49DjB",
        "outputId": "aeb72cab-1c98-4b75-b49e-0cf8e7791ce7"
      },
      "source": [
        "print(\"Hola\" , end=\"\\u13CD\" )\r\n",
        "print(\"Mundo\" , end=\"++++\")\r\n",
        "print(\"Fin\" , end=\"\\n\")"
      ],
      "execution_count": 22,
      "outputs": [
        {
          "output_type": "stream",
          "text": [
            "HolaᏍMundo++++Fin\n"
          ],
          "name": "stdout"
        }
      ]
    },
    {
      "cell_type": "markdown",
      "metadata": {
        "id": "Jj4sQWhG_G7P"
      },
      "source": [
        "#Comentarios en phyton \r\n",
        "Un comentario en programación es un texto especial que es ignorado por el interprete o compilador (según sea el caso) y es empleado para que el programador documente sus algorítmo.\r\n",
        "Existen de 2 tipos de :\r\n",
        "- De linea simple (#)\r\n",
        "- De lina multiple (\"\"\")"
      ]
    },
    {
      "cell_type": "code",
      "metadata": {
        "id": "f245B34AAnd0"
      },
      "source": [
        "print(\"Hola\")\r\n",
        "#print(\"Hola\")\r\n",
        "#Cualquier cosa\r\n",
        "print(\"Hola\")\r\n",
        "print(\"Hola\")\r\n",
        "print(\"Hola\") #Esta linea imprime hola\r\n",
        "print(\"Hola\")\r\n",
        "print(\"Hola\")\r\n",
        "\"\"\"\r\n",
        "Esto es un comentario de multiple linea\r\n",
        "\"\"\"\r\n",
        "print(\"Hola\")\r\n",
        "print(\"Hola\")"
      ],
      "execution_count": null,
      "outputs": []
    }
  ]
}