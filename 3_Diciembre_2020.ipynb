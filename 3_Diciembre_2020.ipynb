{
  "nbformat": 4,
  "nbformat_minor": 0,
  "metadata": {
    "colab": {
      "name": "3-Diciembre-2020",
      "provenance": [],
      "authorship_tag": "ABX9TyMeAj3BWHWVFwtTlo9cwGWa",
      "include_colab_link": true
    },
    "kernelspec": {
      "name": "python3",
      "display_name": "Python 3"
    }
  },
  "cells": [
    {
      "cell_type": "markdown",
      "metadata": {
        "id": "view-in-github",
        "colab_type": "text"
      },
      "source": [
        "<a href=\"https://colab.research.google.com/github/Jose19-e/cyp_2021/blob/main/3_Diciembre_2020.ipynb\" target=\"_parent\"><img src=\"https://colab.research.google.com/assets/colab-badge.svg\" alt=\"Open In Colab\"/></a>"
      ]
    },
    {
      "cell_type": "code",
      "metadata": {
        "colab": {
          "base_uri": "https://localhost:8080/"
        },
        "id": "NTWQHGTKl4aj",
        "outputId": "5f059533-2537-4c2a-bb2b-1d228106cfd0"
      },
      "source": [
        "# \"Ejemplo1\"\n",
        "for  i in [1,2,3,4,5]:\n",
        "  print(f\"El elemento: {i} \")"
      ],
      "execution_count": 1,
      "outputs": [
        {
          "output_type": "stream",
          "text": [
            "El elemento: 1 \n",
            "El elemento: 2 \n",
            "El elemento: 3 \n",
            "El elemento: 4 \n",
            "El elemento: 5 \n"
          ],
          "name": "stdout"
        }
      ]
    },
    {
      "cell_type": "code",
      "metadata": {
        "colab": {
          "base_uri": "https://localhost:8080/"
        },
        "id": "CuXKMGUEnNy9",
        "outputId": "00dddf9f-cb7d-481d-d506-6b28dbec473a"
      },
      "source": [
        "coleccion = [1,2,3,4,5]\n",
        "for  i in coleccion:\n",
        "  print(f\"El elemento: {i} \")"
      ],
      "execution_count": 2,
      "outputs": [
        {
          "output_type": "stream",
          "text": [
            "El elemento: 1 \n",
            "El elemento: 2 \n",
            "El elemento: 3 \n",
            "El elemento: 4 \n",
            "El elemento: 5 \n"
          ],
          "name": "stdout"
        }
      ]
    },
    {
      "cell_type": "code",
      "metadata": {
        "colab": {
          "base_uri": "https://localhost:8080/"
        },
        "id": "pAqb9TgWnx6z",
        "outputId": "5f010da9-2311-45c0-b097-478022eec2f0"
      },
      "source": [
        "#Ejemplo 2 \n",
        "coleccion = {\"Mario\":20,\"Mariana\":19, \"Jessica\":14, \"Luis\":18}\n",
        "for i in coleccion:\n",
        "  print(f\"{coleccion[i]}\")"
      ],
      "execution_count": 6,
      "outputs": [
        {
          "output_type": "stream",
          "text": [
            "20\n",
            "19\n",
            "14\n",
            "18\n"
          ],
          "name": "stdout"
        }
      ]
    },
    {
      "cell_type": "code",
      "metadata": {
        "colab": {
          "base_uri": "https://localhost:8080/"
        },
        "id": "hpWROT7SpwQj",
        "outputId": "d838854c-c9b5-4a7b-fc5c-3a1c6c1dd899"
      },
      "source": [
        "#Ejemplo 2 \n",
        "coleccion = {\"Mario\":20,\"Mariana\":19, \"Jessica\":14, \"Luis\":18}\n",
        "for i in coleccion:\n",
        "  print(f\"{i}->{coleccion[i]}\")"
      ],
      "execution_count": 7,
      "outputs": [
        {
          "output_type": "stream",
          "text": [
            "Mario->20\n",
            "Mariana->19\n",
            "Jessica->14\n",
            "Luis->18\n"
          ],
          "name": "stdout"
        }
      ]
    },
    {
      "cell_type": "code",
      "metadata": {
        "colab": {
          "base_uri": "https://localhost:8080/"
        },
        "id": "irKzlwKRrYpa",
        "outputId": "e7da3920-667d-4583-ae58-c472b68c4a5d"
      },
      "source": [
        "\n",
        "coleccion = {\"Mario\":20,\"Mariana\":19, \"Jessica\":14, \"Luis\":18}\n",
        "for clave, valor in coleccion.items():\n",
        "  print(f\"{clave} - {valor}\")"
      ],
      "execution_count": 8,
      "outputs": [
        {
          "output_type": "stream",
          "text": [
            "Mario - 20\n",
            "Mariana - 19\n",
            "Jessica - 14\n",
            "Luis - 18\n"
          ],
          "name": "stdout"
        }
      ]
    },
    {
      "cell_type": "code",
      "metadata": {
        "colab": {
          "base_uri": "https://localhost:8080/"
        },
        "id": "4TbN9l-CsIEB",
        "outputId": "4433db08-ef6f-4be4-9cb2-a5bd933a5127"
      },
      "source": [
        "#Ejemplo 3\n",
        "email = False\n",
        "for i in \"ariel@unam.mx\":\n",
        "  if (i ==\"@\"):\n",
        "    email = True\n",
        "if email == True:\n",
        "  print(\"El email es correcto\")    \n",
        "else:\n",
        "  print(\"El email no es correcto\")   "
      ],
      "execution_count": 10,
      "outputs": [
        {
          "output_type": "stream",
          "text": [
            "El email es correcto\n"
          ],
          "name": "stdout"
        }
      ]
    },
    {
      "cell_type": "code",
      "metadata": {
        "colab": {
          "base_uri": "https://localhost:8080/"
        },
        "id": "b1zHK8o2tpdM",
        "outputId": "9bacb166-33fb-48ba-b7c7-e14e4279d14e"
      },
      "source": [
        "email = False\n",
        "miEmail=input(\"Introduce tu correo\")\n",
        "for i in miEmail:\n",
        "  if (i ==\"@\"):\n",
        "    email = True\n",
        "if email:\n",
        "  print(\"El email es correcto\")    \n",
        "else:\n",
        "  print(\"El email no es correcto\")   "
      ],
      "execution_count": 14,
      "outputs": [
        {
          "output_type": "stream",
          "text": [
            "Introduce tu correoanita@unam.com\n",
            "El email es correcto\n"
          ],
          "name": "stdout"
        }
      ]
    },
    {
      "cell_type": "code",
      "metadata": {
        "colab": {
          "base_uri": "https://localhost:8080/"
        },
        "id": "1yv_y8Dku-im",
        "outputId": "31acc2ba-96e2-4b24-8911-79f62a02c844"
      },
      "source": [
        "#for-range\n",
        "for i in range (5):\n",
        "  print(\"Hola\")"
      ],
      "execution_count": 15,
      "outputs": [
        {
          "output_type": "stream",
          "text": [
            "Hola\n",
            "Hola\n",
            "Hola\n",
            "Hola\n",
            "Hola\n"
          ],
          "name": "stdout"
        }
      ]
    },
    {
      "cell_type": "code",
      "metadata": {
        "colab": {
          "base_uri": "https://localhost:8080/"
        },
        "id": "-bdBxmkVvlno",
        "outputId": "08aecc7c-13cb-4977-8a11-3f676149c1e3"
      },
      "source": [
        "#for-range\n",
        "for i in range (5):\n",
        "  print(i)"
      ],
      "execution_count": 16,
      "outputs": [
        {
          "output_type": "stream",
          "text": [
            "0\n",
            "1\n",
            "2\n",
            "3\n",
            "4\n"
          ],
          "name": "stdout"
        }
      ]
    },
    {
      "cell_type": "code",
      "metadata": {
        "colab": {
          "base_uri": "https://localhost:8080/"
        },
        "id": "o43gRkF4wWgR",
        "outputId": "319822e7-0a49-4c9b-b624-d096f58406e9"
      },
      "source": [
        "for i in range (10):\n",
        "  print(f\"Valor de la variable {i}\")"
      ],
      "execution_count": 17,
      "outputs": [
        {
          "output_type": "stream",
          "text": [
            "Valor de la variable 0\n",
            "Valor de la variable 1\n",
            "Valor de la variable 2\n",
            "Valor de la variable 3\n",
            "Valor de la variable 4\n",
            "Valor de la variable 5\n",
            "Valor de la variable 6\n",
            "Valor de la variable 7\n",
            "Valor de la variable 8\n",
            "Valor de la variable 9\n"
          ],
          "name": "stdout"
        }
      ]
    },
    {
      "cell_type": "code",
      "metadata": {
        "id": "tSIvRcwEyB2r"
      },
      "source": [
        "#While ejemplo\n",
        "#Ejemplo 1 \n",
        "i = 1\n",
        "while i <= 10:\n",
        "print(\"Ejecución\" + str (i))"
      ],
      "execution_count": null,
      "outputs": []
    },
    {
      "cell_type": "code",
      "metadata": {
        "colab": {
          "base_uri": "https://localhost:8080/"
        },
        "id": "enL3af0oz6mO",
        "outputId": "c1252c41-acb8-480d-f955-d7db6a5efe01"
      },
      "source": [
        "i = 1\n",
        "while i <=10:\n",
        "  print(\"Ejecucion \" + str (i))\n",
        "  i = i + 1 #Contador, incrementa en 1 a la variable"
      ],
      "execution_count": 26,
      "outputs": [
        {
          "output_type": "stream",
          "text": [
            "Ejecucion 1\n",
            "Ejecucion 2\n",
            "Ejecucion 3\n",
            "Ejecucion 4\n",
            "Ejecucion 5\n",
            "Ejecucion 6\n",
            "Ejecucion 7\n",
            "Ejecucion 8\n",
            "Ejecucion 9\n",
            "Ejecucion 10\n"
          ],
          "name": "stdout"
        }
      ]
    },
    {
      "cell_type": "code",
      "metadata": {
        "colab": {
          "base_uri": "https://localhost:8080/"
        },
        "id": "SXDeuXcN0jck",
        "outputId": "7f59ff7f-f132-4d6b-91f7-a5a2a7b81a99"
      },
      "source": [
        "edad = int (input(\"Introduce tu edad: \"))\n",
        "while edad < 0:\n",
        "  print(\"Has introducido una edad negativa, Intentalo de nuevo\")\n",
        "  edad = int (input(\"Introduce tu edad: \"))\n",
        "print(\"Gracias x participar\")\n",
        "print(\"Edad del aspirante: \" + str (edad))"
      ],
      "execution_count": 27,
      "outputs": [
        {
          "output_type": "stream",
          "text": [
            "Introduce tu edad: -9\n",
            "Has introducido una edad negativa, Intentalo de nuevo\n",
            "Introduce tu edad: -4\n",
            "Has introducido una edad negativa, Intentalo de nuevo\n",
            "Introduce tu edad: 6\n",
            "Gracias x participar\n",
            "Edad del aspirante6\n"
          ],
          "name": "stdout"
        }
      ]
    },
    {
      "cell_type": "code",
      "metadata": {
        "colab": {
          "base_uri": "https://localhost:8080/"
        },
        "id": "f609InMC16Ua",
        "outputId": "ac3d3394-6770-4361-c75e-42cdf0fddbc5"
      },
      "source": [
        "edad = int (input(\"Introduce tu edad: \"))\n",
        "while edad < 10 or edad < 100:\n",
        "  print(\"Has introducido una edad negativa, Intentalo de nuevo\")\n",
        "  edad = int (input(\"Introduce tu edad: \"))\n",
        "print(\"Gracias x participar\")\n",
        "print(\"Edad del aspirante: \" + str (edad))"
      ],
      "execution_count": null,
      "outputs": [
        {
          "output_type": "stream",
          "text": [
            "Introduce tu edad: 4\n",
            "Has introducido una edad negativa, Intentalo de nuevo\n"
          ],
          "name": "stdout"
        }
      ]
    }
  ]
}