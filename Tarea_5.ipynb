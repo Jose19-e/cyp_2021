{
  "nbformat": 4,
  "nbformat_minor": 0,
  "metadata": {
    "colab": {
      "name": "Tarea 5",
      "provenance": [],
      "authorship_tag": "ABX9TyPDoJLjNuPK2zAe/fd7wUgZ",
      "include_colab_link": true
    },
    "kernelspec": {
      "name": "python3",
      "display_name": "Python 3"
    }
  },
  "cells": [
    {
      "cell_type": "markdown",
      "metadata": {
        "id": "view-in-github",
        "colab_type": "text"
      },
      "source": [
        "<a href=\"https://colab.research.google.com/github/Jose19-e/cyp_2021/blob/main/Tarea_5.ipynb\" target=\"_parent\"><img src=\"https://colab.research.google.com/assets/colab-badge.svg\" alt=\"Open In Colab\"/></a>"
      ]
    },
    {
      "cell_type": "code",
      "metadata": {
        "colab": {
          "base_uri": "https://localhost:8080/"
        },
        "id": "OXhgprz7tK8Q",
        "outputId": "882424bf-062e-47d2-a971-49324e36687f"
      },
      "source": [
        "# Ejemplo 3.1 página 109\n",
        "nomina = 0\n",
        "empleados = [1,2,3,4,5,6,7,8,9,10]\n",
        "for i in empleados:\n",
        "  nom = float (input(f\"Ingrese el sueldo del empleado: {i}\\n\"))\n",
        "  nomina = nomina + nom\n",
        "print(nomina)  "
      ],
      "execution_count": 7,
      "outputs": [
        {
          "output_type": "stream",
          "text": [
            "Ingrese el sueldo del empleado: 1\n",
            "10\n",
            "Ingrese el sueldo del empleado: 2\n",
            "10\n",
            "Ingrese el sueldo del empleado: 3\n",
            "10\n",
            "Ingrese el sueldo del empleado: 4\n",
            "10\n",
            "Ingrese el sueldo del empleado: 5\n",
            "10\n",
            "Ingrese el sueldo del empleado: 6\n",
            "10\n",
            "Ingrese el sueldo del empleado: 7\n",
            "10\n",
            "Ingrese el sueldo del empleado: 8\n",
            "10\n",
            "Ingrese el sueldo del empleado: 9\n",
            "10\n",
            "Ingrese el sueldo del empleado: 10\n",
            "10\n",
            "100.0\n"
          ],
          "name": "stdout"
        }
      ]
    },
    {
      "cell_type": "code",
      "metadata": {
        "colab": {
          "base_uri": "https://localhost:8080/"
        },
        "id": "2beRE-KnfSFi",
        "outputId": "8b119fb6-fbde-4c77-8d1d-d3858fd23af6"
      },
      "source": [
        "# Ejercicio 3.4 página 117\n",
        "SUMGAS = 0\n",
        "GASTO = 0\n",
        "\n",
        "while (GASTO >= 0):\n",
        "  GASTO = float (input(\"Digite el gasto: \\n\"))\n",
        "  SUMGAS = SUMGAS + GASTO \n",
        "\n",
        "SUMGAS = SUMGAS + 1\n",
        "\n",
        "print(f\"El gasto es: \",SUMGAS)  \n"
      ],
      "execution_count": 41,
      "outputs": [
        {
          "output_type": "stream",
          "text": [
            "Digite el gasto: \n",
            "2528\n",
            "Digite el gasto: \n",
            "3500\n",
            "Digite el gasto: \n",
            "1600\n",
            "Digite el gasto: \n",
            "1850\n",
            "Digite el gasto: \n",
            "150\n",
            "Digite el gasto: \n",
            "-1\n",
            "El gasto es:  9628.0\n"
          ],
          "name": "stdout"
        }
      ]
    }
  ]
}